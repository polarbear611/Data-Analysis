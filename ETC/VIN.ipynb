{
 "cells": [
  {
   "cell_type": "code",
   "execution_count": 1,
   "metadata": {},
   "outputs": [],
   "source": [
    "import requests"
   ]
  },
  {
   "cell_type": "code",
   "execution_count": 2,
   "metadata": {},
   "outputs": [],
   "source": [
    "url = 'http://www.yiparts.com/vin?type=vin&keyword=LSJW24H32AS068007'\n",
    "response = requests.get(url)"
   ]
  },
  {
   "cell_type": "code",
   "execution_count": 5,
   "metadata": {},
   "outputs": [],
   "source": [
    "from bs4 import BeautifulSoup"
   ]
  },
  {
   "cell_type": "code",
   "execution_count": 8,
   "metadata": {},
   "outputs": [],
   "source": [
    "soup = BeautifulSoup(response.text, 'lxml')"
   ]
  },
  {
   "cell_type": "code",
   "execution_count": 11,
   "metadata": {},
   "outputs": [],
   "source": [
    "img_code = soup.find(\"img\", class_=\"imgcode\")"
   ]
  },
  {
   "cell_type": "code",
   "execution_count": 19,
   "metadata": {},
   "outputs": [],
   "source": [
    "root_url = 'http://www.yiparts.com'\n",
    "img_url = root_url + img_code['src']"
   ]
  },
  {
   "cell_type": "code",
   "execution_count": 22,
   "metadata": {},
   "outputs": [],
   "source": [
    "img = requests.get(img_url)"
   ]
  },
  {
   "cell_type": "code",
   "execution_count": 24,
   "metadata": {},
   "outputs": [],
   "source": [
    "with open('code_img.gif', 'wb') as f:\n",
    "    f.write(img.content)"
   ]
  },
  {
   "cell_type": "code",
   "execution_count": 33,
   "metadata": {},
   "outputs": [],
   "source": [
    "from IPython.core.display import Image, HTML"
   ]
  },
  {
   "cell_type": "code",
   "execution_count": 40,
   "metadata": {},
   "outputs": [
    {
     "data": {
      "text/html": [
       "<img src=\"code_img.gif\" alt=\"Red dot\"/>"
      ],
      "text/plain": [
       "<IPython.core.display.HTML object>"
      ]
     },
     "execution_count": 40,
     "metadata": {},
     "output_type": "execute_result"
    }
   ],
   "source": [
    "#HTML(u'<img src=\"data:image/png;base64,{0}\" alt=\"Red dot\"/>'.format(b64encode(rs[4])))\n",
    "HTML(u'<img src=\"code_img.gif\" alt=\"Red dot\"/>')"
   ]
  },
  {
   "cell_type": "code",
   "execution_count": 36,
   "metadata": {},
   "outputs": [],
   "source": [
    "import matplotlib.pyplot as plt"
   ]
  },
  {
   "cell_type": "code",
   "execution_count": 39,
   "metadata": {},
   "outputs": [
    {
     "data": {
      "text/plain": [
       "<matplotlib.image.AxesImage at 0xadd32aec>"
      ]
     },
     "execution_count": 39,
     "metadata": {},
     "output_type": "execute_result"
    },
    {
     "data": {
      "image/png": "[encoded data removed]",
      "text/plain": [
       "<matplotlib.figure.Figure at 0xadd7108c>"
      ]
     },
     "metadata": {},
     "output_type": "display_data"
    }
   ],
   "source": [
    "plt.imshow(plt.imread('code_img.gif'))"
   ]
  },
  {
   "cell_type": "code",
   "execution_count": 31,
   "metadata": {},
   "outputs": [],
   "source": [
    "import requests\n",
    "from bs4 import BeautifulSoup\n",
    "from IPython.core.display import Image, HTML"
   ]
  },
  {
   "cell_type": "code",
   "execution_count": 41,
   "metadata": {},
   "outputs": [
    {
     "data": {
      "text/html": [
       "<img src=\"code_img.gif\" alt=\"Red dot\"/>"
      ],
      "text/plain": [
       "<IPython.core.display.HTML object>"
      ]
     },
     "execution_count": 41,
     "metadata": {},
     "output_type": "execute_result"
    }
   ],
   "source": [
    "url = 'http://www.yiparts.com/vin?type=vin&keyword=LSJW24H32AS068007'\n",
    "response = requests.get(url)\n",
    "soup = BeautifulSoup(response.text, 'lxml')\n",
    "img_code = soup.find(\"img\", class_=\"imgcode\")\n",
    "root_url = 'http://www.yiparts.com'\n",
    "img_url = root_url + img_code['src']\n",
    "\n",
    "img = requests.get(img_url)\n",
    "with open('code_img.gif', 'wb') as f:\n",
    "    f.write(img.content)\n",
    "HTML(u'<img src=\"code_img.gif\" alt=\"Red dot\"/>')"
   ]
  },
  {
   "cell_type": "code",
   "execution_count": 42,
   "metadata": {},
   "outputs": [],
   "source": [
    "url = 'http://www.yiparts.com/vin?type=vin&keyword=LSJW24H32AS068007&imgcode=yratj'\n",
    "response = requests.get(url)"
   ]
  },
  {
   "cell_type": "code",
   "execution_count": 43,
   "metadata": {},
   "outputs": [],
   "source": [
    "soup = BeautifulSoup(response.text, 'lxml')\n",
    "tr = soup.find('tr', class_=\"MarkDiffTr\")"
   ]
  },
  {
   "cell_type": "code",
   "execution_count": null,
   "metadata": {},
   "outputs": [],
   "source": [
    "# 创建一个session对象 \n",
    "s = requests.Session() \n",
    "# 用session对象发出get请求，设置cookies \n",
    "s.get('http://httpbin.org/cookies/set/sessioncookie/123456789') \n",
    "# 用session对象发出另外一个get请求，获取cookies \n",
    "r = s.get(\"http://httpbin.org/cookies\") \n",
    "# 显示结果 \n",
    "r.text \n",
    " '{\"cookies\": {\"sessioncookie\": \"123456789\"}}' "
   ]
  },
  {
   "cell_type": "code",
   "execution_count": 46,
   "metadata": {},
   "outputs": [
    {
     "data": {
      "text/html": [
       "<img src=\"code_img.gif\" alt=\"Red dot\"/>"
      ],
      "text/plain": [
       "<IPython.core.display.HTML object>"
      ]
     },
     "execution_count": 46,
     "metadata": {},
     "output_type": "execute_result"
    }
   ],
   "source": [
    "s = requests.Session()\n",
    "url = 'http://www.yiparts.com/vin?type=vin&keyword=LSJW24H32AS068007'\n",
    "response = s.get(url)\n",
    "soup = BeautifulSoup(response.text, 'lxml')\n",
    "img_code = soup.find(\"img\", class_=\"imgcode\")\n",
    "root_url = 'http://www.yiparts.com'\n",
    "img_url = root_url + img_code['src']\n",
    "\n",
    "img = requests.get(img_url)\n",
    "with open('code_img.gif', 'wb') as f:\n",
    "    f.write(img.content)\n",
    "HTML(u'<img src=\"code_img.gif\" alt=\"Red dot\"/>')"
   ]
  },
  {
   "cell_type": "code",
   "execution_count": 47,
   "metadata": {},
   "outputs": [],
   "source": [
    "url = 'http://www.yiparts.com/vin?type=vin&keyword=LSJW24H32AS068007&imgcode=yratj'\n",
    "response = s.get(url)\n",
    "soup = BeautifulSoup(response.text, 'lxml')"
   ]
  },
  {
   "cell_type": "code",
   "execution_count": 54,
   "metadata": {},
   "outputs": [
    {
     "data": {
      "text/plain": [
       "<RequestsCookieJar[Cookie(version=0, name='PHPSESSID', value='7i3tscd031aliq5o6j12ks3egd', port=None, port_specified=False, domain='www.yiparts.com', domain_specified=False, domain_initial_dot=False, path='/', path_specified=True, secure=False, expires=None, discard=True, comment=None, comment_url=None, rest={'HttpOnly': None}, rfc2109=False), Cookie(version=0, name='SearchType', value='vin', port=None, port_specified=False, domain='www.yiparts.com', domain_specified=False, domain_initial_dot=False, path='/', path_specified=True, secure=False, expires=1523550528, discard=False, comment=None, comment_url=None, rest={}, rfc2109=False), Cookie(version=0, name='Searchvin', value='LSJW24H32AS068007', port=None, port_specified=False, domain='www.yiparts.com', domain_specified=False, domain_initial_dot=False, path='/', path_specified=True, secure=False, expires=1523550528, discard=False, comment=None, comment_url=None, rest={}, rfc2109=False)]>"
      ]
     },
     "execution_count": 54,
     "metadata": {},
     "output_type": "execute_result"
    }
   ],
   "source": [
    "s.cookies"
   ]
  },
  {
   "cell_type": "code",
   "execution_count": 48,
   "metadata": {},
   "outputs": [],
   "source": [
    "soup.find('tr', class_=\"MarkDiffTr\")"
   ]
  },
  {
   "cell_type": "code",
   "execution_count": 51,
   "metadata": {},
   "outputs": [
    {
     "data": {
      "text/plain": [
       "['__attrs__',\n",
       " '__class__',\n",
       " '__delattr__',\n",
       " '__dict__',\n",
       " '__dir__',\n",
       " '__doc__',\n",
       " '__enter__',\n",
       " '__eq__',\n",
       " '__exit__',\n",
       " '__format__',\n",
       " '__ge__',\n",
       " '__getattribute__',\n",
       " '__getstate__',\n",
       " '__gt__',\n",
       " '__hash__',\n",
       " '__init__',\n",
       " '__le__',\n",
       " '__lt__',\n",
       " '__module__',\n",
       " '__ne__',\n",
       " '__new__',\n",
       " '__reduce__',\n",
       " '__reduce_ex__',\n",
       " '__repr__',\n",
       " '__setattr__',\n",
       " '__setstate__',\n",
       " '__sizeof__',\n",
       " '__str__',\n",
       " '__subclasshook__',\n",
       " '__weakref__',\n",
       " 'adapters',\n",
       " 'auth',\n",
       " 'cert',\n",
       " 'close',\n",
       " 'cookies',\n",
       " 'delete',\n",
       " 'get',\n",
       " 'get_adapter',\n",
       " 'get_redirect_target',\n",
       " 'head',\n",
       " 'headers',\n",
       " 'hooks',\n",
       " 'max_redirects',\n",
       " 'merge_environment_settings',\n",
       " 'mount',\n",
       " 'options',\n",
       " 'params',\n",
       " 'patch',\n",
       " 'post',\n",
       " 'prepare_request',\n",
       " 'proxies',\n",
       " 'put',\n",
       " 'rebuild_auth',\n",
       " 'rebuild_method',\n",
       " 'rebuild_proxies',\n",
       " 'request',\n",
       " 'resolve_redirects',\n",
       " 'send',\n",
       " 'stream',\n",
       " 'trust_env',\n",
       " 'verify']"
      ]
     },
     "execution_count": 51,
     "metadata": {},
     "output_type": "execute_result"
    }
   ],
   "source": [
    "dir(s)"
   ]
  },
  {
   "cell_type": "code",
   "execution_count": 52,
   "metadata": {},
   "outputs": [
    {
     "data": {
      "text/plain": [
       "<RequestsCookieJar[Cookie(version=0, name='PHPSESSID', value='7i3tscd031aliq5o6j12ks3egd', port=None, port_specified=False, domain='www.yiparts.com', domain_specified=False, domain_initial_dot=False, path='/', path_specified=True, secure=False, expires=None, discard=True, comment=None, comment_url=None, rest={'HttpOnly': None}, rfc2109=False), Cookie(version=0, name='SearchType', value='vin', port=None, port_specified=False, domain='www.yiparts.com', domain_specified=False, domain_initial_dot=False, path='/', path_specified=True, secure=False, expires=1523550528, discard=False, comment=None, comment_url=None, rest={}, rfc2109=False), Cookie(version=0, name='Searchvin', value='LSJW24H32AS068007', port=None, port_specified=False, domain='www.yiparts.com', domain_specified=False, domain_initial_dot=False, path='/', path_specified=True, secure=False, expires=1523550528, discard=False, comment=None, comment_url=None, rest={}, rfc2109=False)]>"
      ]
     },
     "execution_count": 52,
     "metadata": {},
     "output_type": "execute_result"
    }
   ],
   "source": [
    "s.cookies"
   ]
  }
 ],
 "metadata": {
  "kernelspec": {
   "display_name": "Python 3",
   "language": "python",
   "name": "python3"
  },
  "language_info": {
   "codemirror_mode": {
    "name": "ipython",
    "version": 3
   },
   "file_extension": ".py",
   "mimetype": "text/x-python",
   "name": "python",
   "nbconvert_exporter": "python",
   "pygments_lexer": "ipython3",
   "version": "3.5.2"
  }
 },
 "nbformat": 4,
 "nbformat_minor": 2
}
