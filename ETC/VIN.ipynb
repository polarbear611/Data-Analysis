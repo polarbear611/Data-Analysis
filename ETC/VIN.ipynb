{
 "cells": [
  {
   "cell_type": "code",
   "execution_count": 1,
   "metadata": {},
   "outputs": [],
   "source": [
    "import requests"
   ]
  },
  {
   "cell_type": "code",
   "execution_count": 2,
   "metadata": {},
   "outputs": [],
   "source": [
    "url = 'http://www.yiparts.com/vin?type=vin&keyword=LSJW24H32AS068007'\n",
    "response = requests.get(url)"
   ]
  },
  {
   "cell_type": "code",
   "execution_count": 5,
   "metadata": {},
   "outputs": [],
   "source": [
    "from bs4 import BeautifulSoup"
   ]
  },
  {
   "cell_type": "code",
   "execution_count": 8,
   "metadata": {},
   "outputs": [],
   "source": [
    "soup = BeautifulSoup(response.text, 'lxml')"
   ]
  },
  {
   "cell_type": "code",
   "execution_count": 11,
   "metadata": {},
   "outputs": [],
   "source": [
    "img_code = soup.find(\"img\", class_=\"imgcode\")"
   ]
  },
  {
   "cell_type": "code",
   "execution_count": 19,
   "metadata": {},
   "outputs": [],
   "source": [
    "root_url = 'http://www.yiparts.com'\n",
    "img_url = root_url + img_code['src']"
   ]
  },
  {
   "cell_type": "code",
   "execution_count": 22,
   "metadata": {},
   "outputs": [],
   "source": [
    "img = requests.get(img_url)"
   ]
  },
  {
   "cell_type": "code",
   "execution_count": 24,
   "metadata": {},
   "outputs": [],
   "source": [
    "with open('code_img.gif', 'wb') as f:\n",
    "    f.write(img.content)"
   ]
  },
  {
   "cell_type": "code",
   "execution_count": 33,
   "metadata": {},
   "outputs": [],
   "source": [
    "from IPython.core.display import Image, HTML"
   ]
  },
  {
   "cell_type": "code",
   "execution_count": 40,
   "metadata": {},
   "outputs": [
    {
     "data": {
      "text/html": [
       "<img src=\"code_img.gif\" alt=\"Red dot\"/>"
      ],
      "text/plain": [
       "<IPython.core.display.HTML object>"
      ]
     },
     "execution_count": 40,
     "metadata": {},
     "output_type": "execute_result"
    }
   ],
   "source": [
    "#HTML(u'<img src=\"data:image/png;base64,{0}\" alt=\"Red dot\"/>'.format(b64encode(rs[4])))\n",
    "HTML(u'<img src=\"code_img.gif\" alt=\"Red dot\"/>')"
   ]
  },
  {
   "cell_type": "code",
   "execution_count": 36,
   "metadata": {},
   "outputs": [],
   "source": [
    "import matplotlib.pyplot as plt"
   ]
  },
  {
   "cell_type": "code",
   "execution_count": 39,
   "metadata": {},
   "outputs": [
    {
     "data": {
      "text/plain": [
       "<matplotlib.image.AxesImage at 0xadd32aec>"
      ]
     },
     "execution_count": 39,
     "metadata": {},
     "output_type": "execute_result"
    },
    {
     "data": {
      "image/png": "[encoded data removed]",
      "text/plain": [
       "<matplotlib.figure.Figure at 0xadd7108c>"
      ]
     },
     "metadata": {},
     "output_type": "display_data"
    }
   ],
   "source": [
    "plt.imshow(plt.imread('code_img.gif'))"
   ]
  },
  {
   "cell_type": "code",
   "execution_count": 31,
   "metadata": {},
   "outputs": [],
   "source": [
    "import requests\n",
    "from bs4 import BeautifulSoup\n",
    "from IPython.core.display import Image, HTML"
   ]
  },
  {
   "cell_type": "code",
   "execution_count": 41,
   "metadata": {},
   "outputs": [
    {
     "data": {
      "text/html": [
       "<img src=\"code_img.gif\" alt=\"Red dot\"/>"
      ],
      "text/plain": [
       "<IPython.core.display.HTML object>"
      ]
     },
     "execution_count": 41,
     "metadata": {},
     "output_type": "execute_result"
    }
   ],
   "source": [
    "url = 'http://www.yiparts.com/vin?type=vin&keyword=LSJW24H32AS068007'\n",
    "response = requests.get(url)\n",
    "soup = BeautifulSoup(response.text, 'lxml')\n",
    "img_code = soup.find(\"img\", class_=\"imgcode\")\n",
    "root_url = 'http://www.yiparts.com'\n",
    "img_url = root_url + img_code['src']\n",
    "\n",
    "img = requests.get(img_url)\n",
    "with open('code_img.gif', 'wb') as f:\n",
    "    f.write(img.content)\n",
    "HTML(u'<img src=\"code_img.gif\" alt=\"Red dot\"/>')"
   ]
  },
  {
   "cell_type": "code",
   "execution_count": 42,
   "metadata": {},
   "outputs": [],
   "source": [
    "url = 'http://www.yiparts.com/vin?type=vin&keyword=LSJW24H32AS068007&imgcode=yratj'\n",
    "response = requests.get(url)"
   ]
  },
  {
   "cell_type": "code",
   "execution_count": 43,
   "metadata": {},
   "outputs": [],
   "source": [
    "soup = BeautifulSoup(response.text, 'lxml')\n",
    "tr = soup.find('tr', class_=\"MarkDiffTr\")"
   ]
  },
  {
   "cell_type": "code",
   "execution_count": null,
   "metadata": {},
   "outputs": [],
   "source": [
    "# 创建一个session对象 \n",
    "s = requests.Session() \n",
    "# 用session对象发出get请求，设置cookies \n",
    "s.get('http://httpbin.org/cookies/set/sessioncookie/123456789') \n",
    "# 用session对象发出另外一个get请求，获取cookies \n",
    "r = s.get(\"http://httpbin.org/cookies\") \n",
    "# 显示结果 \n",
    "r.text \n",
    " '{\"cookies\": {\"sessioncookie\": \"123456789\"}}' "
   ]
  },
  {
   "cell_type": "code",
   "execution_count": 66,
   "metadata": {},
   "outputs": [
    {
     "data": {
      "text/html": [
       "<img src=\"code_img.gif\" alt=\"Red dot\"/>"
      ],
      "text/plain": [
       "<IPython.core.display.HTML object>"
      ]
     },
     "execution_count": 66,
     "metadata": {},
     "output_type": "execute_result"
    }
   ],
   "source": [
    "s = requests.Session()\n",
    "url = 'http://www.yiparts.com/vin?type=vin&keyword=LSJW24H32AS068007'\n",
    "response = s.get(url)\n",
    "soup = BeautifulSoup(response.text, 'lxml')\n",
    "img_code = soup.find(\"img\", class_=\"imgcode\")\n",
    "root_url = 'http://www.yiparts.com'\n",
    "img_url = root_url + img_code['src']\n",
    "\n",
    "img = requests.get(img_url)\n",
    "with open('code_img.gif', 'wb') as f:\n",
    "    f.write(img.content)\n",
    "HTML(u'<img src=\"code_img.gif\" alt=\"Red dot\"/>')"
   ]
  },
  {
   "cell_type": "code",
   "execution_count": 93,
   "metadata": {},
   "outputs": [],
   "source": [
    "s = requests.Session()\n",
    "url = 'http://app.yiparts.com/index.php/Index/Vin?word=LSJW24H32AS068006'\n",
    "headers = {\n",
    "    \"Accept\":\"text/html,application/xhtml+xml,application/xml;q=0.9,image/webp,*/*;q=0.8\",\n",
    "    \"Accept-Encoding\":\"gzip, deflate, sdch\",\n",
    "    \"Accept-Language\":\"zh-CN,zh;q=0.8\",\n",
    "    \"Cookie\":\"PHPSESSID=qg6q0er7p94nalsnhebq3k4v6e; vin_word=LSJW24H32AS068006; __tins__1121295=%7B%22sid%22%3A%201523037750342%2C%20%22vd%22%3A%208%2C%20%22expires%22%3A%201523039981495%7D; __51cke__=; __51laig__=8; Hm_lvt_d6d66a78d863e895c324e752879449ea=1522929248,1522929410; Hm_lpvt_d6d66a78d863e895c324e752879449ea=1523038182\",\n",
    "    \"Host\":\"app.yiparts.com\",\n",
    "    \"Proxy-Connection\":\"keep-alive\",\n",
    "    \"Referer\":\"http://app.yiparts.com/\",\n",
    "    \"Upgrade-Insecure-Requests\":\"1\",\n",
    "    \"User-Agent\":\"Mozilla/5.0 (Windows NT 10.0; WOW64) AppleWebKit/537.36 (KHTML, like Gecko) Chrome/56.0.2924.87 Safari/537.36\"\n",
    "}\n",
    "s.headers=headers\n",
    "response = s.get(url)\n",
    "soup = BeautifulSoup(response.text, 'lxml')"
   ]
  },
  {
   "cell_type": "code",
   "execution_count": 94,
   "metadata": {},
   "outputs": [
    {
     "data": {
      "text/plain": [
       "<!DOCTYPE html PUBLIC \"-//W3C//DTD XHTML 1.0 Transitional//EN\" \"http://www.w3.org/TR/xhtml1/DTD/xhtml1-transitional.dtd\">\n",
       "<html xmlns=\"http://www.w3.org/1999/xhtml\">\n",
       "<head>\n",
       "<meta content=\"telephone=no\" name=\"format-detection\"/>\n",
       "<meta content=\"none\" http-equiv=\"x-rim-auto-match\"/>\n",
       "<meta content=\"text/html; charset=utf-8\" http-equiv=\"Content-Type\"/>\n",
       "<meta content=\"width=device-width, initial-scale=1.0, maximum-scale=1.0, user-scalable=0\" name=\"viewport\"/>\n",
       "<title>LSJW24H32AS068006-车辆识别码查询-VIN查询-汽车配件宜配网</title>\n",
       "<meta content=\",车辆识别码,车辆识别码查询,VIN查询,汽配网,汽车配件,汽车配件大全,汽配产品\" name=\"keywords\"/>\n",
       "<meta content=\"宜配网(www.yiparts.com)是中国专业的汽配网，是集汽配数据、汽配服务和网络推广为一体的大型汽配门户网， 致力成为全球权威的汽车配件服务平台。\" name=\"description\"/>\n",
       "<link href=\"/Tpl/Templates/Public/bootstrap-3.3.4/css/bootstrap.min.css?ver=2.3.10\" rel=\"stylesheet\" type=\"text/css\"/>\n",
       "<link href=\"/Tpl/Templates/Public//cropper/cropper.css\" rel=\"stylesheet\"/>\n",
       "<link href=\"/Tpl/Templates/Public/Css/Css.css?ver=2.3.10\" rel=\"stylesheet\" type=\"text/css\"/>\n",
       "<link href=\"/Tpl/Templates/Public/Css/select_box_wap.css?ver=2.3.10\" rel=\"stylesheet\" type=\"text/css\"/>\n",
       "<script src=\"/Tpl/Templates/Public/Js/jquery.min.js\" type=\"text/javascript\"></script>\n",
       "<script src=\"/Tpl/Templates/Public/Js/jquery.cookie.js\" type=\"text/javascript\"></script>\n",
       "<script src=\"/Tpl/Templates/Public/Js/jquery.base64.js\" type=\"text/javascript\"></script>\n",
       "<script src=\"/Tpl/Templates/Public/bootstrap-3.3.4/js/bootstrap.min.js\" type=\"text/javascript\"></script>\n",
       "<script src=\"/Tpl/Templates/Public/Js/Common.js?ver=2.3.10\" type=\"text/javascript\"></script>\n",
       "<script src=\"http://na.yiparts.com/Js/YPAdsApp.js?ver=2.3.10\" type=\"text/javascript\"></script>\n",
       "<script src=\"/Tpl/Templates/Public/Js/User.js?ver=2.3.10\" type=\"text/javascript\"></script>\n",
       "<script type=\"text/javascript\">\n",
       "\tvar APP_BASE_URL = '/';\n",
       "\tvar YP_BASE_URL = 'http://www.yiparts.com/';\n",
       "\tvar APP_BASE_URL2 = '/index.php/';\n",
       "\tvar APP_BASE_PUBLIC_URL = '/Tpl/Templates/Public/';\n",
       "\t//baidu tongji\n",
       "\tvar _hmt = _hmt || [];\n",
       "\t(function() {\n",
       "\t  var hm = document.createElement(\"script\");\n",
       "\t  hm.src = \"//hm.baidu.com/hm.js?d6d66a78d863e895c324e752879449ea\";\n",
       "\t  var s = document.getElementsByTagName(\"script\")[0]; \n",
       "\t  s.parentNode.insertBefore(hm, s);\n",
       "\t})();\n",
       "\t</script>\n",
       "</head>\n",
       "<body enip=\"6Zzwpi25SIbangTCzhjDxUmbFpMEKQ\" site=\"1\" uid=\"\">\n",
       "<div class=\"home\">\n",
       "<script type=\"text/javascript\">CheckLogin();</script>\n",
       "<script src=\"http://res.wx.qq.com/open/js/jweixin-1.2.0.js\"></script>\n",
       "<script src=\"/Tpl/Templates/Public/cropper/cropper.js?ver=1\" type=\"text/javascript\"></script>\n",
       "<div class=\"top_menu\" id=\"search_vin\">\n",
       "<form method=\"get\" name=\"form_search\">\n",
       "<div class=\"input-group\">\n",
       "<span class=\"glyphicon glyphicon-camera\" id=\"vin-camera\"></span>\n",
       "<input class=\"form-control\" id=\"vin_word\" name=\"word\" placeholder=\"请输入行驶证上的17位车架号\" type=\"text\" value=\"LSJW24H32AS068006\"/>\n",
       "<span class=\"input-group-btn\">\n",
       "<button class=\"btn btn-warning\" type=\"submit\">&amp;nbsp查&amp;nbsp询&amp;nbsp<i class=\"glyphicon glyphicon-search\"></i>&amp;nbsp</button>\n",
       "</span>\n",
       "</div>\n",
       "</form>\n",
       "</div>\n",
       "<div class=\"main_box_bg\" id=\"main_box_bg\"></div>\n",
       "<div id=\"vinRes\">\n",
       "<div class=\"vinImgBox\"><img class=\"vinImg\" id=\"viewVinimg\"/><img class=\"loading\" src=\"/Tpl/Templates/Public/Css/Images/loading.gif\"/></div>\n",
       "<div class=\"imgBtn\">\n",
       "<a class=\"ror\" href=\"javascript:\" onclick=\"vinImgRotate(90)\" title=\"顺时针旋转\"><img src=\"/Tpl/Templates/Public/images/ror.png\"/></a>\n",
       "<a href=\"javascript:\" onclick=\"vinImgMatch(this)\"><img src=\"/Tpl/Templates/Public/images/vinImgBtn.png\"/></a>\n",
       "</div>\n",
       "</div>\n",
       "<div id=\"search_vin_ads\"><script type=\"text/javascript\">CallYpAd(175, '10117');</script></div>\n",
       "<div class=\"main_box\" id=\"vin_result\">\n",
       "<form action=\"/index.php/Index/Vin\" enctype=\"multipart/form-data\" id=\"vimImgForm\" method=\"post\" name=\"vimImgForm\">\n",
       "<input id=\"vinFile\" name=\"vinFile\" type=\"file\"/>\n",
       "<input id=\"vinImg\" name=\"vinImg\" type=\"hidden\"/>\n",
       "</form>\n",
       "<div id=\"vin_list\">\n",
       "<div class=\"main_box panel panel-default\" style=\"margin\">\n",
       "<table class=\"table table-bordered table-hover\">\n",
       "<tr>\n",
       "<th width=\"90px\">车系：</th>\n",
       "<td>\n",
       "\t\t\t\t\t\t上汽集团 \n",
       "\t\t\t\t\t\t\t\t\t\t\t\t\tMG6\n",
       "\t\t\t\t\t\t\t\t\t\t\t</td>\n",
       "</tr>\n",
       "<tr>\n",
       "<th>车型：</th>\n",
       "<td>1.8L 手动 2010年</td>\n",
       "</tr>\n",
       "<tr>\n",
       "<th>发动机：</th>\n",
       "<td>18K4C #98kw#1796cc</td>\n",
       "</tr>\n",
       "<tr>\n",
       "<th>燃料：</th>\n",
       "<td>汽油</td>\n",
       "</tr>\n",
       "<tr>\n",
       "<th>变速器：</th>\n",
       "<td>5MT</td>\n",
       "</tr>\n",
       "<tr>\n",
       "<th>车身形式：</th>\n",
       "<td>5门5座掀背车</td>\n",
       "</tr>\n",
       "<tr>\n",
       "<th>前制动器：</th>\n",
       "<td>通风盘式</td>\n",
       "</tr>\n",
       "<tr>\n",
       "<th>后制动器：</th>\n",
       "<td>通风盘式</td>\n",
       "</tr>\n",
       "<tr>\n",
       "<th>驻车制动：</th>\n",
       "<td>手刹</td>\n",
       "</tr>\n",
       "<tr>\n",
       "<th>驱动方式：</th>\n",
       "<td>前置前驱</td>\n",
       "</tr>\n",
       "<tr>\n",
       "<td align=\"center\" colspan=\"2\">\n",
       "<a class=\"vin_btn\" href=\"/index.php/Product/Search?type=all&amp;bid=45&amp;makeid=66&amp;m1=453&amp;m2=716&amp;m3=3096&amp;vin=LSJW24H32AS068006\">此车型的配件</a>\n",
       "</td>\n",
       "</tr>\n",
       "</table>\n",
       "</div>\n",
       "</div>\n",
       "</div>\n",
       "<div class=\"marginfootmenu\"></div>\n",
       "<div class=\"foot_menu\">\n",
       "<ul>\n",
       "<li><a href=\"/index.php/Index/Index\">查配件</a></li>\n",
       "<li><a href=\"/index.php/New/Index\">涨知识</a></li>\n",
       "<li><a href=\"/index.php/Index/Server\">企业服务</a></li>\n",
       "<li><a href=\"/index.php/User/Index\">我的宜配</a></li>\n",
       "</ul>\n",
       "</div>\n",
       "</div>\n",
       "<div class=\"mask_layer\" id=\"mask_layer\"></div>\n",
       "<div id=\"alertMsg\"></div>\n",
       "<span style=\"display:none\">\n",
       "<script language=\"javascript\" src=\"//js.users.51.la/1121295.js\" type=\"text/javascript\"></script>\n",
       "<noscript><a href=\"//www.51.la/?1121295\" target=\"_blank\"><img alt=\"我要啦免费统计\" src=\"//img.users.51.la/1121295.asp\" style=\"border:none\"/></a></noscript>\n",
       "<script src=\"http://www.yiparts.com/Public/Js/tongji.js?ver=2.1.47\" type=\"text/javascript\"></script>\n",
       "</span>\n",
       "</body>\n",
       "</html>"
      ]
     },
     "execution_count": 94,
     "metadata": {},
     "output_type": "execute_result"
    }
   ],
   "source": [
    "soup"
   ]
  },
  {
   "cell_type": "code",
   "execution_count": 133,
   "metadata": {},
   "outputs": [
    {
     "data": {
      "text/plain": [
       "[]"
      ]
     },
     "execution_count": 133,
     "metadata": {},
     "output_type": "execute_result"
    }
   ],
   "source": [
    "s = requests.Session()\n",
    "url = 'http://app.yiparts.com/index.php/Index/Vin?word=WDCDA5HB5DA120873'\n",
    "headers = {\n",
    "    \"Accept\":\"text/html,application/xhtml+xml,application/xml;q=0.9,image/webp,*/*;q=0.8\",\n",
    "    \"Accept-Encoding\":\"gzip, deflate, sdch\",\n",
    "    \"Accept-Language\":\"zh-CN,zh;q=0.8\",\n",
    "    #\"Cookie\":\"PHPSESSID=qg6q0er7p94nalsnhebq3k4v6e; vin_word=LSJW24H32AS068006; __tins__1121295=%7B%22sid%22%3A%201523037750342%2C%20%22vd%22%3A%208%2C%20%22expires%22%3A%201523039981495%7D; __51cke__=; __51laig__=8; Hm_lvt_d6d66a78d863e895c324e752879449ea=1522929248,1522929410; Hm_lpvt_d6d66a78d863e895c324e752879449ea=1523038182\",\n",
    "    \"Host\":\"app.yiparts.com\",\n",
    "    \"Proxy-Connection\":\"keep-alive\",\n",
    "    \"Referer\":\"http://app.yiparts.com/\",\n",
    "    \"Upgrade-Insecure-Requests\":\"1\",\n",
    "    \"User-Agent\":\"Mozilla/5.0 (Windows NT 10.0; WOW64) AppleWebKit/537.36 (KHTML, like Gecko) Chrome/56.0.2924.87 Safari/537.36\"\n",
    "}\n",
    "s.headers=headers\n",
    "response = s.get(url)\n",
    "soup = BeautifulSoup(response.text, 'lxml')\n",
    "[td.text.replace('\\t', '').replace('\\r\\n', ' ') for td in soup.find_all('td')]"
   ]
  },
  {
   "cell_type": "code",
   "execution_count": 101,
   "metadata": {},
   "outputs": [
    {
     "data": {
      "text/plain": [
       "'1.8L 手动\\xa02010年'"
      ]
     },
     "execution_count": 101,
     "metadata": {},
     "output_type": "execute_result"
    }
   ],
   "source": [
    "soup.find_all('td')[1].text"
   ]
  },
  {
   "cell_type": "code",
   "execution_count": 104,
   "metadata": {},
   "outputs": [
    {
     "data": {
      "text/plain": [
       "[' 上汽集团\\xa0 MG6 ',\n",
       " '1.8L 手动\\xa02010年',\n",
       " '18K4C\\xa0#98kw#1796cc',\n",
       " '汽油',\n",
       " '5MT',\n",
       " '5门5座掀背车',\n",
       " '通风盘式',\n",
       " '通风盘式',\n",
       " '手刹',\n",
       " '前置前驱',\n",
       " '\\n此车型的配件\\n']"
      ]
     },
     "execution_count": 104,
     "metadata": {},
     "output_type": "execute_result"
    }
   ],
   "source": [
    "[td.text.replace('\\t', '').replace('\\r\\n', ' ') for td in soup.find_all('td')]"
   ]
  },
  {
   "cell_type": "code",
   "execution_count": 139,
   "metadata": {},
   "outputs": [
    {
     "data": {
      "text/html": [
       "<img src=\"code_img.gif\" alt=\"Red dot\"/>"
      ],
      "text/plain": [
       "<IPython.core.display.HTML object>"
      ]
     },
     "execution_count": 139,
     "metadata": {},
     "output_type": "execute_result"
    }
   ],
   "source": [
    "s = requests.Session()\n",
    "url = 'http://www.yiparts.com/vin?type=vin&keyword=WDCDA5HB5DA120873'\n",
    "response = s.get(url)\n",
    "soup = BeautifulSoup(response.text, 'lxml')\n",
    "img_code = soup.find(\"img\", class_=\"imgcode\")\n",
    "root_url = 'http://www.yiparts.com'\n",
    "img_url = root_url + img_code['src']\n",
    "\n",
    "img = requests.get(img_url)\n",
    "with open('code_img.gif', 'wb') as f:\n",
    "    f.write(img.content)\n",
    "HTML(u'<img src=\"code_img.gif\" alt=\"Red dot\"/>')"
   ]
  },
  {
   "cell_type": "code",
   "execution_count": 142,
   "metadata": {},
   "outputs": [
    {
     "data": {
      "text/plain": [
       "[]"
      ]
     },
     "execution_count": 142,
     "metadata": {},
     "output_type": "execute_result"
    }
   ],
   "source": [
    "#s = requests.Session()\n",
    "url = 'http://app.yiparts.com/index.php/Index/Vin?word=WDCDA5HB5DA120873&imgcode=yratj'\n",
    "headers = {\n",
    "    \"Accept\":\"text/html,application/xhtml+xml,application/xml;q=0.9,image/webp,*/*;q=0.8\",\n",
    "    \"Accept-Encoding\":\"gzip, deflate, sdch\",\n",
    "    \"Accept-Language\":\"zh-CN,zh;q=0.8\",\n",
    "    #\"Cookie\":\"PHPSESSID=qg6q0er7p94nalsnhebq3k4v6e; vin_word=LSJW24H32AS068006; __tins__1121295=%7B%22sid%22%3A%201523037750342%2C%20%22vd%22%3A%208%2C%20%22expires%22%3A%201523039981495%7D; __51cke__=; __51laig__=8; Hm_lvt_d6d66a78d863e895c324e752879449ea=1522929248,1522929410; Hm_lpvt_d6d66a78d863e895c324e752879449ea=1523038182\",\n",
    "    \"Cookie\":\"PHPSESSID=qg6q0er7p94nalsnhebq3k4v6e; vin_word=WDCDA5HB5DA120873; __tins__1121295=%7B%22sid%22%3A%201523039828935%2C%20%22vd%22%3A%201%2C%20%22expires%22%3A%201523041628935%7D; __51cke__=; __51laig__=11; Hm_lvt_d6d66a78d863e895c324e752879449ea=1522929248,1522929410; Hm_lpvt_d6d66a78d863e895c324e752879449ea=1523039829\",\n",
    "    \"Host\":\"app.yiparts.com\",\n",
    "    \"Proxy-Connection\":\"keep-alive\",\n",
    "    \"Referer\":\"http://app.yiparts.com/\",\n",
    "    \"Upgrade-Insecure-Requests\":\"1\",\n",
    "    \"User-Agent\":\"Mozilla/5.0 (Windows NT 10.0; WOW64) AppleWebKit/537.36 (KHTML, like Gecko) Chrome/56.0.2924.87 Safari/537.36\"\n",
    "}\n",
    "s.headers=headers\n",
    "response = s.get(url)\n",
    "soup = BeautifulSoup(response.text, 'lxml')\n",
    "[td.text.replace('\\t', '').replace('\\r\\n', ' ') for td in soup.find_all('td')]"
   ]
  },
  {
   "cell_type": "code",
   "execution_count": 83,
   "metadata": {},
   "outputs": [],
   "source": [
    "url = 'http://www.yiparts.com/vin?type=vin&keyword=LSJW24H32AS068007&imgcode=9tzzn'\n",
    "headers = {\n",
    "    'Referer':\"http://www.yiparts.com/vin?type=vin&keyword=LSJW24H32AS068006\",\n",
    "    'User-Agent':'Mozilla/5.0 (Windows NT 10.0; WOW64) AppleWebKit/537.36 (KHTML, like Gecko) Chrome/56.0.2924.87 Safari/537.36'\n",
    "}\n",
    "cookie_dict = {\n",
    "    'PHPSESSID' : 'l300f8jl6iej2nahdddn6ae6up',\n",
    "    \"Hm_lvt_d6d66a78d863e895c324e752879449ea\" : \"1522929248,1522929410\",\n",
    "    \"Hm_lpvt_d6d66a78d863e895c324e752879449ea\" : \"1523035264\",\n",
    "    \"Searchvin\" : \"LSJW24H32AS068006\",\n",
    "    \"SearchType\": \"vin\"\n",
    "}\n",
    "cookies = requests.utils.cookiejar_from_dict(cookie_dict, cookiejar=None, overwrite=True)\n",
    "s.cookies = cookies\n",
    "s.headers = headers\n",
    "response = s.get(url)\n",
    "soup = BeautifulSoup(response.text, 'lxml')"
   ]
  },
  {
   "cell_type": "code",
   "execution_count": 80,
   "metadata": {},
   "outputs": [
    {
     "data": {
      "text/plain": [
       "<RequestsCookieJar[Cookie(version=0, name='Hm_lpvt_d6d66a78d863e895c324e752879449ea', value='1523035264', port=None, port_specified=False, domain='', domain_specified=False, domain_initial_dot=False, path='/', path_specified=True, secure=False, expires=None, discard=True, comment=None, comment_url=None, rest={'HttpOnly': None}, rfc2109=False), Cookie(version=0, name='Hm_lvt_d6d66a78d863e895c324e752879449ea', value='1522929248,1522929410', port=None, port_specified=False, domain='', domain_specified=False, domain_initial_dot=False, path='/', path_specified=True, secure=False, expires=None, discard=True, comment=None, comment_url=None, rest={'HttpOnly': None}, rfc2109=False), Cookie(version=0, name='PHPSESSID', value='l300f8jl6iej2nahdddn6ae6up', port=None, port_specified=False, domain='', domain_specified=False, domain_initial_dot=False, path='/', path_specified=True, secure=False, expires=None, discard=True, comment=None, comment_url=None, rest={'HttpOnly': None}, rfc2109=False), Cookie(version=0, name='SearchType', value='vin', port=None, port_specified=False, domain='', domain_specified=False, domain_initial_dot=False, path='/', path_specified=True, secure=False, expires=None, discard=True, comment=None, comment_url=None, rest={'HttpOnly': None}, rfc2109=False), Cookie(version=0, name='Searchvin', value='LSJW24H32AS068006', port=None, port_specified=False, domain='', domain_specified=False, domain_initial_dot=False, path='/', path_specified=True, secure=False, expires=None, discard=True, comment=None, comment_url=None, rest={'HttpOnly': None}, rfc2109=False), Cookie(version=0, name='SearchType', value='vin', port=None, port_specified=False, domain='www.yiparts.com', domain_specified=False, domain_initial_dot=False, path='/', path_specified=True, secure=False, expires=1523642259, discard=False, comment=None, comment_url=None, rest={}, rfc2109=False), Cookie(version=0, name='Searchvin', value='LSJW24H32AS068007', port=None, port_specified=False, domain='www.yiparts.com', domain_specified=False, domain_initial_dot=False, path='/', path_specified=True, secure=False, expires=1523642259, discard=False, comment=None, comment_url=None, rest={}, rfc2109=False)]>"
      ]
     },
     "execution_count": 80,
     "metadata": {},
     "output_type": "execute_result"
    }
   ],
   "source": [
    "s.cookies"
   ]
  },
  {
   "cell_type": "code",
   "execution_count": 84,
   "metadata": {},
   "outputs": [
    {
     "data": {
      "text/plain": [
       "<!DOCTYPE html PUBLIC \"-//W3C//DTD XHTML 1.0 Transitional//EN\" \"http://www.w3.org/TR/xhtml1/DTD/xhtml1-transitional.dtd\">\n",
       "<html xmlns=\"http://www.w3.org/1999/xhtml\">\n",
       "<head>\n",
       "<meta content=\"text/html; charset=utf-8\" http-equiv=\"Content-Type\"/>\n",
       "<title>VIN查询-宜配网</title>\n",
       "<meta content=\"汽配网,汽车配件,汽车配件大全,汽配产品\" name=\"keywords\"/>\n",
       "<meta content=\"宜配网(www.yiparts.com)是中国专业的汽配网，是集汽配数据、汽配服务和网络推广为一体的大型汽配门户网， 致力成为全球权威的汽车配件服务平台。\" name=\"description\"/>\n",
       "<link href=\"/Public/Css/ui/jquery-ui.min.css?ver=\" rel=\"stylesheet\" type=\"text/css\"/>\n",
       "<link href=\"/Public/Css/Style.css?ver=2.4.12\" rel=\"stylesheet\" type=\"text/css\"/>\n",
       "<link href=\"/Public/Css/select_box.css?ver=2.4.12\" rel=\"stylesheet\" type=\"text/css\"/>\n",
       "<!--[if IE 6]><link rel=\"stylesheet\" type=\"text/css\" href=\"/Public/Css/ie6.css\"/><!<![endif]-->\n",
       "<!--[if IE 7]><link rel=\"stylesheet\" type=\"text/css\" href=\"/Public/Css/ie7.css\"/><!<![endif]-->\n",
       "<!--[if IE 8]><link rel=\"stylesheet\" type=\"text/css\" href=\"/Public/Css/ie8.css\"/><!<![endif]-->\n",
       "<!--[if IE 9]><link rel=\"stylesheet\" type=\"text/css\" href=\"/Public/Css/ie9.css\"/><!<![endif]-->\n",
       "<script src=\"/Public/Js/jquery-1.7.2.min.js\" type=\"text/javascript\"></script>\n",
       "<script src=\"/Public/Js/jquery-ui.min.js\" type=\"text/javascript\"></script>\n",
       "<script src=\"/Public/Js/jquery.cookie.js\" type=\"text/javascript\"></script>\n",
       "<script src=\"/Public/Js/jquery.base64.js\" type=\"text/javascript\"></script>\n",
       "<script src=\"/Public/Js/fileupload.js\" type=\"text/javascript\"></script>\n",
       "<script src=\"/Public/Js/jquery.cxslide.min.js\" type=\"text/javascript\"></script>\n",
       "<script src=\"http://na.yiparts.com/Js/YPAds.js?ver=2.4.9\" type=\"text/javascript\"></script>\n",
       "<script src=\"/Public/Js/Common.js?ver=2.4.28\" type=\"text/javascript\"></script>\n",
       "<script src=\"/Public/Js/Cart.js?ver=2.4.12\" type=\"text/javascript\"></script>\n",
       "<script type=\"text/javascript\">\n",
       "\tvar LNGTYPE = 1;\n",
       "\tvar LNGCODE = 'cn';\n",
       "\tvar LNGURL = '';\n",
       "\t//baidu tongji\n",
       "\tvar _hmt = _hmt || [];\n",
       "\t(function() {\n",
       "\t  var hm = document.createElement(\"script\");\n",
       "\t  hm.src = \"//hm.baidu.com/hm.js?d6d66a78d863e895c324e752879449ea\";\n",
       "\t  var s = document.getElementsByTagName(\"script\")[0]; \n",
       "\t  s.parentNode.insertBefore(hm, s);\n",
       "\t})();\n",
       "\t</script>\n",
       "</head>\n",
       "<body enip=\"6Zzwpi25SIbangTCzhjDxUmbFpMEKQ\" site=\"0\" uid=\"\">\n",
       "<div id=\"container\" lift=\"TOP\" liftto=\"#container\">\n",
       "<div id=\"Top1\">\n",
       "<div id=\"Othd\">\n",
       "<a href=\"/dtlist\" title=\"第三方数据\">t</a>\n",
       "<a href=\"/dalist\" title=\"北美数据\">a</a> \n",
       "           <a href=\"/etklist\" title=\"原厂数据\">e</a> \n",
       "\t   </div>\n",
       "<div id=\"main\">\n",
       "<div id=\"link\">\n",
       "<ul>\n",
       "<li id=\"Mobileversion\"><a href=\"http://app.yiparts.com/\" target=\"_blank\">手机版<div id=\"Dimensionalcold\"><div class=\"content\"><img alt=\"宜配网手机版\" src=\"/Public/Css/Images/Mobile.jpg\"/></div></div></a><span class=\"line\">|</span></li>\n",
       "<li id=\"WeChat\"><a href=\"javascript:void(0)\">微信公众号<div id=\"Dimensionalcold\"><div class=\"content\"><img alt=\"宜配网微信公众号\" src=\"/Public/Css/Images/WeChat.jpg\"/></div></div></a><span class=\"line\">|</span></li>\n",
       "<li id=\"Yipartsclient\"><a href=\"http://app.yiparts.com/download/yiparts201510.apk\" target=\"_blank\">安卓客户端<div id=\"Dimensionalcold\"><div class=\"content\"><img alt=\"宜配网安卓客户端\" src=\"/Public/Css/Images/Android.jpg\"/></div></div></a><span class=\"line\">|</span></li>\n",
       "<li><a href=\"javascript:\" onclick=\"SetHome(this, window.location);return false;\">设为首页</a><span class=\"line\">|</span></li>\n",
       "<li class=\"NotLogin\"><a href=\"/user/reg/\">注册</a><span class=\"line\">|</span></li>\n",
       "<li class=\"NotLogin\"><a href=\"javascript:\" onclick=\"LoginAndGoto('');return false;\">登陆</a><span class=\"line\">|</span></li>\n",
       "<li><a href=\"/cart/index\" id=\"CartForm_btn\">配件单(<span id=\"cart_num\">0</span>)</a><!--span class=\"icon_hot2\"></span--></li>\n",
       "</ul>\n",
       "</div>\n",
       "<div id=\"language\">\n",
       "<a href=\"/vin?type=vin&amp;keyword=LSJW24H32AS068007&amp;imgcode=9tzzn\"></a><a href=\"/en/vin?type=vin&amp;keyword=LSJW24H32AS068007&amp;imgcode=9tzzn\"></a><a href=\"/de/vin?type=vin&amp;keyword=LSJW24H32AS068007&amp;imgcode=9tzzn\"></a><a href=\"/fr/vin?type=vin&amp;keyword=LSJW24H32AS068007&amp;imgcode=9tzzn\"></a><a href=\"/py/vin?type=vin&amp;keyword=LSJW24H32AS068007&amp;imgcode=9tzzn\"></a><a href=\"/es/vin?type=vin&amp;keyword=LSJW24H32AS068007&amp;imgcode=9tzzn\"></a>\n",
       "</div>\n",
       "</div>\n",
       "</div>\n",
       "<script type=\"text/javascript\">CheckLogin();RenewCartStat();</script>\n",
       "<!--<div id=\"TopAv\" style=\"width: 1122px;margin: 5px auto; background-color: #f9f2e1;line-height: 32px;padding: 0 10px;font-size:14px;\"></div>-->\n",
       "<script type=\"text/javascript\">var UTOKEN = '';</script>\n",
       "<div id=\"Top2\" scrwidth=\"1120\">\n",
       "<div id=\"main\">\n",
       "<div id=\"logo\">\n",
       "<a href=\"/\" title=\"宜配网-全球专业汽配数据仓库及汽车零部件市场\"><img src=\"/Public/Css/Images/logo.gif\"/></a>\n",
       "</div>\n",
       "<div class=\"searchTxt_number\" id=\"search\">\n",
       "<form action=\"/search\" method=\"get\" name=\"form_search\">\n",
       "<div class=\"searchTxt\">\n",
       "<span id=\"SearchTagSpan\">\n",
       "<div class=\"searchMenu\">\n",
       "<ul class=\"searchTab\">\n",
       "<li class=\"active\" id=\"serch_number\" onclick=\"SelectSearch2(this, 'number')\"><a href=\"javascript:void(0)\" title=\"汽车配件号码查询\">号码</a></li>\n",
       "<li id=\"serch_model\" onclick=\"SelectSearch2(this, 'model');ShowYpcModel()\"><a href=\"javascript:void(0)\" title=\"车型查询\">车型</a></li>\n",
       "<li id=\"serch_vin\"><a href=\"/vin\" title=\"车架号查询\">车架号</a></li>\n",
       "<li id=\"serch_all\"><a href=\"/search?type=all\" title=\"汽车零件产品查询\">产品</a></li>\n",
       "<li id=\"serch_para\" onclick=\"SelectSearch2(this, 'para');ShowProParams()\"><a href=\"javascript:void(0)\" title=\"参数查询\">参数</a></li>\n",
       "<li id=\"serch_company\"><a href=\"/business?type=company\" title=\"汽配商家查询\">商家</a></li>\n",
       "</ul>\n",
       "</div>\n",
       "</span>\n",
       "<div style=\"clear:both;\"></div>\n",
       "<input id=\"type\" name=\"type\" type=\"hidden\" value=\"number\"/>\n",
       "<input auto=\"s\" autocomplete=\"off\" class=\"searchtext\" id=\"keyword\" name=\"keyword\" type=\"text\"/>\n",
       "</div>\n",
       "<div class=\"searchBtn\" onclick=\"GoSearch()\">查询</div>\n",
       "</form>\n",
       "<div id=\"AnyNumBox\"><a href=\"/help/ea.html\"><img src=\"/Public/Css/Images/anynum.jpg\"/></a></div>\n",
       "<div id=\"AnyVinBox\"><img src=\"/Public/Css/Images/vin_nums_nav.gif\"/></div>\n",
       "<script type=\"text/javascript\">\n",
       "\t\t\t   ToggleKeyTag();\n",
       "\t\t\t   InitSearchBox2();\n",
       "\t\t\t   </script>\n",
       "<div class=\"question\">\n",
       "<ul>\n",
       "<li><a href=\"/help/find_autopart.html\">如何查询汽配产品？</a></li>\n",
       "<li><a href=\"/services/\">宜配能为您做什么？</a></li>\n",
       "<li id=\"RandHelp\"><a href=\"/services/why_join.html\">为什么加入宜配？</a></li>\n",
       "</ul>\n",
       "</div>\n",
       "</div>\n",
       "<div id=\"collection\">\n",
       "<ul class=\"app_ul\">\n",
       "<li>\n",
       "<a href=\"javascript:void(0)\">\n",
       "<div class=\"txt\">微信公众号</div><img alt=\"微信公众号\" src=\"/Public/Css/Images/WeChat_small.jpg\"/>\n",
       "<div class=\"big_info\"><div class=\"txt\">扫一扫关注宜配网微信公众号</div><img alt=\"关注宜配网微信公众号\" src=\"/Public/Css/Images/WeChat.jpg\"/></div>\n",
       "</a>\n",
       "</li>\n",
       "<li>\n",
       "<a href=\"http://app.yiparts.com/download/yiparts201510.apk\" target=\"_blank\">\n",
       "<div class=\"txt\">安卓客户端</div><img alt=\"宜配网安卓客户端\" src=\"/Public/Css/Images/Android_small.jpg?var=2017\"/>\n",
       "<div class=\"big_info\"><div class=\"txt\">扫一扫安装安卓客户端</div><img alt=\"宜配网安卓客户端\" src=\"/Public/Css/Images/Android.jpg\"/></div>\n",
       "</a>\n",
       "</li>\n",
       "</ul>\n",
       "</div>\n",
       "</div>\n",
       "</div>\n",
       "<div id=\"Menu\">\n",
       "<div class=\"main\">\n",
       "<div class=\"content\">\n",
       "<ul activemenu=\"\">\n",
       "<li id=\"homelink\"><a href=\"/\">首页</a></li>\n",
       "<li id=\"partlink\"><a href=\"/parts/\">零件分类</a></li>\n",
       "<li id=\"modellink\"><a href=\"/models/\">车型库</a></li>\n",
       "<li id=\"tradelink\"><a href=\"/trade/\">供求</a></li>\n",
       "<li id=\"businesslink\"><a href=\"/business/\">商家</a></li>\n",
       "<li id=\"newslink\"><a href=\"/news/\">新闻</a></li>\n",
       "<li id=\"showlink\"><a href=\"/show/shownews\">展会</a></li>\n",
       "<!--li id=\"softlink\"><a href=\"http://www.china-part.com/softweb/\" target=\"_blank\">汽配软件</a></li-->\n",
       "<!--li id=\"serviceslink\"><a href=\"/services/\">宜配服务</a></li-->\n",
       "<li id=\"models_infolink\"><a href=\"/models_info/\">汽车档案</a></li>\n",
       "<li id=\"autokllink\"><a href=\"/autokl\">汽配知识</a></li>\n",
       "<li id=\"topiclink\"><a href=\"/topic/\">专题频道</a></li>\n",
       "<!--li id=\"joblink\"><a href=\"/job\">招聘</a></li-->\n",
       "</ul>\n",
       "<script type=\"text/javascript\">var Tag = $('[ActiveMenu]').attr('ActiveMenu');Tag = Tag == '' ? 'home': Tag;$('#'+Tag+'link').addClass('active');</script>\n",
       "</div>\n",
       "</div>\n",
       "</div>\n",
       "<div id=\"Bbigbg\" style=\"display:none\"></div>\n",
       "<span id=\"FirstS\" style=\"display:none\">\n",
       "<div id=\"Jc01\">\n",
       "<a class=\"Jc01closebtn\" href=\"javascript:void(0)\" onclick=\"HideNewUserInfo();return false;\"></a>\n",
       "<a class=\"Jc01closebtn2\" href=\"javascript:void(0)\" onclick=\"HideNewUserInfo();return false;\"></a>\n",
       "</div>\n",
       "<div id=\"Jc02\">\n",
       "<ul>\n",
       "<li><span class=\"Jc02n\" id=\"info_number\">可输入一个产品的OE编码或者参考编码</span></li>\n",
       "<li><span class=\"Jc02p\" id=\"info_all\">如：本田雅阁减振器，标致307刹车片 (支持拼音)</span></li>\n",
       "<li><span class=\"Jc02b\" id=\"info_company\">例如：可输入厂商电话、联系人、地址、公司名等</span></li>\n",
       "</ul>\n",
       "</div>\n",
       "<div id=\"Jc03\"></div>\n",
       "</span>\n",
       "<div class=\"PageSearch\">\n",
       "<div id=\"Main\">\n",
       "<div class=\"blank10\"></div>\n",
       "<div class=\"clear\"></div>\n",
       "<div class=\"blank10\"></div>\n",
       "<form class=\"com_tips\" id=\"vin_form\" method=\"get\" onsubmit=\"return vinSubmit('vin_form')\" style=\"margin-left:300px\">\n",
       "<div class=\"txt_row\">\n",
       "<div class=\"txt_main\">\n",
       "<label class=\"txt_title\">解码车架号</label>\n",
       "<b class=\"red2\" style=\"font-size:18px\">LSJW24H32AS068007</b>\n",
       "<input name=\"type\" type=\"hidden\" value=\"vin\"/>\n",
       "<input name=\"keyword\" type=\"hidden\" value=\"LSJW24H32AS068007\"/>\n",
       "</div>\n",
       "</div>\n",
       "<div class=\"txt_row\">\n",
       "<div class=\"txt_main imgcodebox\">\n",
       "<label class=\"txt_title\"><i class=\"required_txt\">*</i>图片验证码</label>\n",
       "<input autocomplete=\"off\" class=\"form-control\" maxlength=\"5\" name=\"imgcode\" placeholder=\"请输入右侧图片验证码\" type=\"text\"/>\n",
       "<img class=\"imgcode\" id=\"imgcode\" onclick=\"ChangeCode('imgcode')\" src=\"/User/CheckCode?t=1523037618.0087\"/>\n",
       "\t\t\t\t\t <a href=\"javascript:\" onclick=\"ChangeCode('imgcode')\" style=\"line-height: 32px;\">看不清</a>\n",
       "</div>\n",
       "<div class=\"clear\"></div>\n",
       "</div>\n",
       "<div class=\"sub_btns\">\n",
       "<div><input class=\"btn5\" type=\"submit\" value=\"查看解码信息\"/></div>\n",
       "<div class=\"error\"></div>\n",
       "</div>\n",
       "</form>\n",
       "<div class=\"blank10\"></div>\n",
       "</div>\n",
       "</div>\n",
       "<div class=\"clear\"></div>\n",
       "<div id=\"Foot\">\n",
       "<div class=\"Footcontent\">\n",
       "<div id=\"Footleft\">\n",
       "<ul>\n",
       "<li class=\"titleli\">\n",
       "<h2>新手指南</h2>\n",
       "<ul>\n",
       "<li><a href=\"/user/reg/\">注册新用户</a></li>\n",
       "<li><a href=\"/user/getpass/\">帐号密码</a></li>\n",
       "<li><a href=\"/services/userfaq.html\">用户入门</a></li>\n",
       "<li><a href=\"/services/clientfaq.html\">商家入门</a></li>\n",
       "</ul>\n",
       "</li>\n",
       "<li class=\"titleli\">\n",
       "<h2>供应商服务</h2>\n",
       "<ul>\n",
       "<li><a href=\"/business/\">找公司</a></li>\n",
       "<li><a href=\"/search.cgi\">找产品</a></li>\n",
       "<li><a href=\"/parts/\">宜配产品导航</a></li>\n",
       "<li><a href=\"/business/\">供应商资料库</a></li>\n",
       "</ul>\n",
       "</li>\n",
       "<li class=\"titleli\">\n",
       "<h2>宜配服务</h2>\n",
       "<ul>\n",
       "<li><a href=\"/services/index.html\">汽配产品推广</a></li>\n",
       "<li><a href=\"/services/WEB.html\">汽配专业网站推广</a></li>\n",
       "<li><a href=\"http://soft.yiparts.com\">汽配管理软件</a></li>\n",
       "<li><a href=\"/services/ADS.html\">广告服务</a></li>\n",
       "<li><a href=\"/services/PDF.html\">电子光盘目录软件</a></li>\n",
       "<li><a href=\"/services/PDF.html\">PDF印刷目录制造</a></li>\n",
       "</ul>\n",
       "</li>\n",
       "<li class=\"titleli\">\n",
       "<h2>帮助</h2>\n",
       "<ul id=\"HelpList\">\n",
       "<li class=\"no\"><a href=\"/help/find_autopart.html\">如何查找汽配零件</a></li>\n",
       "<li><a href=\"/help/find_supplier.html\">如何查找零件供应商</a></li>\n",
       "<li><a href=\"/about/About.html\" target=\"_blank\">宜配是做什么的</a></li>\n",
       "<li><a href=\"/help/how_join.html\">如何入驻宜配</a></li>\n",
       "<li><a href=\"/help/data_struct.html\">汽配数据的重要性与构成</a></li>\n",
       "<li><a href=\"/services/why_join.html\">为何要加入宜配</a></li>\n",
       "</ul>\n",
       "</li>\n",
       "</ul>\n",
       "</div>\n",
       "<div id=\"Footright\"></div>\n",
       "<div style=\"margin-left:50px;float:left;margin-top: -12px;\n",
       "\"><a href=\"http://www.beian.gov.cn/portal/registerSystemInfo?recordcode=44011102000239\" target=\"_blank\">\n",
       "<img src=\"/Public/Css/Images/_icon.png\"/>\n",
       "<p style=\"float:right;height:20px;line-height:20px;color:#939393;\">粤公网安备 44011102000239号</p></a></div>\n",
       "<div id=\"Relatedlinks\">\n",
       "<div id=\"Relatedlinks1\">\n",
       "<ul>\n",
       "<li>宜配网全球网站：</li>\n",
       "<li><a href=\"/cn/\">中国站</a></li>\n",
       "<li id=\"solid\"></li>\n",
       "<li><a href=\"/en/\">国际站</a></li>\n",
       "<li id=\"solid\"></li>\n",
       "<li><a href=\"/de/\">德国站</a></li>\n",
       "<li id=\"solid\"></li>\n",
       "<li><a href=\"/fr/\">法国站</a></li>\n",
       "<li id=\"solid\"></li>\n",
       "<li><a href=\"/py/\">俄罗斯站</a></li>\n",
       "<li id=\"solid\"></li>\n",
       "<li><a href=\"/es/\">西班牙站</a></li>\n",
       "</ul>\n",
       "</div>\n",
       "<div id=\"Relatedlinks2\">\n",
       "<ul>\n",
       "<li><a href=\"/about/About.html\" target=\"_blank\">关于宜配</a></li>\n",
       "<li id=\"solid\"></li>\n",
       "<li><a href=\"/about/qpsjzh.html\" target=\"_blank\">宜配业务</a></li>\n",
       "<li id=\"solid\"></li>\n",
       "<li><a href=\"/services\" target=\"_blank\">商业服务</a></li>\n",
       "<li id=\"solid\"></li>\n",
       "<li><a href=\"/about/ypdt.html\" target=\"_blank\">宜配动态</a></li>\n",
       "<li id=\"solid\"></li>\n",
       "<!-- <li><a href=\"/job\" target=\"_blank\">诚聘英才</a></li> -->\n",
       "<li id=\"solid\"></li>\n",
       "<li><a href=\"/about/zzqysb.html\" target=\"_blank\">著作权与商标</a></li>\n",
       "<li id=\"solid\"></li>\n",
       "<li><a href=\"/about/contact.html\" target=\"_blank\">联系我们</a></li>\n",
       "</ul>\n",
       "</div>\n",
       "</div>\n",
       "<div id=\"Copyright\">\n",
       "<span class=\"icp1\"></span>  <span class=\"report\"></span>\n",
       "<br/>版权所有 © 2008-2017 宜配网-全球专业汽车零配件查询平台门户网站 <span class=\"icp2\"></span>\n",
       "<br/>未经授权禁止转载、摘编、复制或建立镜像.如有违反,必追究法律责任 <a href=\"/about/zzqysb.html\" target=\"_blank\">免责声明</a>\n",
       "</div>\n",
       "</div>\n",
       "</div>\n",
       "<div id=\"ALogin\" style=\"display:none\">\n",
       "<form id=\"ALoginForm\" method=\"post\">\n",
       "<input id=\"ALoginGoto\" type=\"hidden\"/>\n",
       "<input id=\"ALoginTarget\" type=\"hidden\"/>\n",
       "<a class=\"closesub\" onclick=\"HideLogin()\" title=\"关闭\"></a>\n",
       "<h2 id=\"ALoginTitle\">登陆</h2>\n",
       "<div class=\"ALogin_l\"><script type=\"text/javascript\">CallYpAd(159, 0);</script></div>\n",
       "<div class=\"ALogin_r\" id=\"InputLogin\">\n",
       "<div class=\"login_error\"></div>\n",
       "<ul class=\"login_txt_ul\">\n",
       "<li><span id=\"na\"></span>\n",
       "<input autocomplete=\"off\" class=\"login_txt account\" id=\"account\" name=\"loginname\" placeholder=\"用户名/邮箱/已验证手机\" type=\"text\"/></li>\n",
       "<li><span id=\"lk\"></span>\n",
       "<input autocomplete=\"off\" class=\"login_txt password\" id=\"password\" maxlength=\"20\" name=\"password\" placeholder=\"请输入密码\" type=\"password\"/></li>\n",
       "<li>\n",
       "<div class=\"codemark_ipu\"><input autocomplete=\"off\" class=\"login_txt\" maxlength=\"5\" name=\"codemark\" placeholder=\"请输入验证码\" type=\"text\"/></div>\n",
       "<div class=\"imgcode_box\"><img align=\"absmiddle\" id=\"acode\" onclick=\"ChangeCode('acode')\"/> <a href=\"javascript:\" onclick=\"ChangeCode('acode');return false;\">看不清</a></div>\n",
       "<div class=\"clear\"></div>\n",
       "</li>\n",
       "<li><label><input class=\"auto\" name=\"auto\" type=\"checkbox\" value=\"1\"/>记住此次登录</label></li>\n",
       "</ul>\n",
       "<div id=\"ALogin_btn\"><input id=\"login_btn\" onclick=\"check_login_form('ALoginForm');return false;\" type=\"submit\" value=\"登录\"/></div>\n",
       "<a class=\"ALogin_way2\" href=\"javascript:\" id=\"BackFastLogin\" onclick=\"ShowFastLogin();return false;\" style=\"margin-top:5px;display:none\">&lt;&lt;返回快速登陆</a>\n",
       "<div class=\"clear\"></div>\n",
       "<ul class=\"dsf_login\">\n",
       "<li><a class=\"weixinloginurl\" href=\"#\"><i class=\"weixin_s\"></i><span>微信登录</span></a></li>\n",
       "</ul>\n",
       "</div>\n",
       "<div class=\"ALogin_r2\" id=\"FastLogin\" style=\"display:none;\">\n",
       "<div class=\"Avatar\">\n",
       "<a class=\"Acatar_img\" href=\"javascript:\" onclick=\"LoginByToken();return false;\"><img src=\"/Public/Css/Images/yiparts_Avatar.jpg\"/></a>\n",
       "<a class=\"A_user_n\" href=\"javascript:\" id=\"FastName\" onclick=\"LoginByToken();return false;\"></a>\n",
       "</div>\n",
       "<a class=\"ALogin_way2\" href=\"javascript:\" onclick=\"HideFastLogin();return false;\">使用账号密码登录</a>\n",
       "</div>\n",
       "<div id=\"ALogin_b\">\n",
       "<a class=\"yiparts_y\" href=\"/user/reg/\">注册免费会员</a> |\n",
       "\t\t\t  <a href=\"/user/getpass/\">忘记密码</a> |\n",
       "\t\t\t  <a href=\"/user/power\" target=\"_blank\">会员权益</a>\n",
       "</div>\n",
       "</form>\n",
       "</div>\n",
       "<div id=\"Bbigbg\" style=\"display:none\"></div>\n",
       "<!--宜配车型-->\n",
       "<div id=\"YpcModel\">\n",
       "<a class=\"closesub\" onclick=\"HideYpcModel()\" title=\"关闭\"></a>\n",
       "<div class=\"CarBox select_main\" id=\"BrandBox\">\n",
       "<div class=\"CarTop\"><div class=\"Txt\">按品牌<b class=\"red\">拼音</b>首字母查找：</div> <ul class=\"select_initial_list\"></ul></div>\n",
       "<ul class=\"select_option\"></ul>\n",
       "</div>\n",
       "<div class=\"CarBox\" id=\"MM1Box\"></div>\n",
       "<div class=\"CarBox\" id=\"M2Box\"></div>\n",
       "<div class=\"CarBox\" id=\"M3Box\"></div>\n",
       "</div>\n",
       "<!--宜配参数-->\n",
       "<div id=\"ProParams\">\n",
       "<a class=\"closesub\" onclick=\"HideProParams()\" title=\"关闭\"></a>\n",
       "<form action=\"/search\" method=\"get\" onsubmit=\"return CheckParaForm()\"></form>\n",
       "<input name=\"type\" type=\"hidden\" value=\"para\"/>\n",
       "<input id=\"para_partid\" name=\"partid\" type=\"hidden\"/>\n",
       "<div id=\"PartBox\"><ul class=\"para_part_ul\"></ul></div>\n",
       "<div class=\"para_main_box\">\n",
       "<div class=\"para_box\">\n",
       "<h2 class=\"heading\"><span><a href=\"javascript:void(0)\" style=\"cursor:default\">尺寸/参数</a></span></h2>\n",
       "<table class=\"para_table\">\n",
       "<thead>\n",
       "<tr>\n",
       "<th width=\"30px\">标注</th>\n",
       "<th>名称</th>\n",
       "<th width=\"140px\">尺寸范围</th>\n",
       "<th width=\"40px\">单位</th>\n",
       "</tr>\n",
       "</thead>\n",
       "<tbody></tbody>\n",
       "</table>\n",
       "<div class=\"clear\"></div>\n",
       "<div class=\"para_btns\"><input class=\"btn6\" type=\"reset\" value=\"重置\"/>    <input class=\"btn5\" type=\"submit\" value=\"查询配件\"/></div>\n",
       "</div>\n",
       "<div class=\"para_img_box\">\n",
       "<h2 class=\"heading\"><span><a href=\"javascript:void(0)\" style=\"cursor:default\">标注实例</a></span></h2>\n",
       "<div><img class=\"para_demoimg\" src=\"/Public/Css/Images/loading.gif\"/></div>\n",
       "</div>\n",
       "</div>\n",
       "</div>\n",
       "<!--联系客服-->\n",
       "<div class=\"tc\" id=\"ConcatUs\">\n",
       "<div class=\"tc-top\">\n",
       "<p>联系客服</p>\n",
       "<span class=\"tc-close\" onclick=\"ConcatUs.hide()\"></span>\n",
       "</div>\n",
       "<ul class=\"qq_ul\"></ul>\n",
       "<div class=\"tc-f\">客服电话：<span>020-36390347</span></div>\n",
       "</div>\n",
       "<span style=\"display:none\">\n",
       "<!--script language=\"javascript\" type=\"text/javascript\" src=\"//js.users.51.la/1121295.js\"></script>\n",
       "\t\t<noscript><a href=\"//www.51.la/?1121295\" target=\"_blank\"><img alt=\"&#x6211;&#x8981;&#x5566;&#x514D;&#x8D39;&#x7EDF;&#x8BA1;\" src=\"//img.users.51.la/1121295.asp\" style=\"border:none\" /></a></noscript-->\n",
       "</span>\n",
       "<script src=\"/Public/Js/tongji.js?ver=2.1.49\" type=\"text/javascript\"></script>\n",
       "<script type=\"text/javascript\">\n",
       "\t$(document).ready( function (){\n",
       "\t\tTjUser();\n",
       "\t});\n",
       "\t</script>\n",
       "</div>\n",
       "</body>\n",
       "</html>"
      ]
     },
     "execution_count": 84,
     "metadata": {},
     "output_type": "execute_result"
    }
   ],
   "source": [
    "soup"
   ]
  },
  {
   "cell_type": "code",
   "execution_count": 85,
   "metadata": {},
   "outputs": [
    {
     "data": {
      "text/plain": [
       "{'Referer': 'http://www.yiparts.com/vin?type=vin&keyword=LSJW24H32AS068006',\n",
       " 'User-Agent': 'Mozilla/5.0 (Windows NT 10.0; WOW64) AppleWebKit/537.36 (KHTML, like Gecko) Chrome/56.0.2924.87 Safari/537.36'}"
      ]
     },
     "execution_count": 85,
     "metadata": {},
     "output_type": "execute_result"
    }
   ],
   "source": [
    "s.headers"
   ]
  },
  {
   "cell_type": "code",
   "execution_count": 48,
   "metadata": {},
   "outputs": [],
   "source": [
    "soup.find('tr', class_=\"MarkDiffTr\")"
   ]
  },
  {
   "cell_type": "code",
   "execution_count": 51,
   "metadata": {},
   "outputs": [
    {
     "data": {
      "text/plain": [
       "['__attrs__',\n",
       " '__class__',\n",
       " '__delattr__',\n",
       " '__dict__',\n",
       " '__dir__',\n",
       " '__doc__',\n",
       " '__enter__',\n",
       " '__eq__',\n",
       " '__exit__',\n",
       " '__format__',\n",
       " '__ge__',\n",
       " '__getattribute__',\n",
       " '__getstate__',\n",
       " '__gt__',\n",
       " '__hash__',\n",
       " '__init__',\n",
       " '__le__',\n",
       " '__lt__',\n",
       " '__module__',\n",
       " '__ne__',\n",
       " '__new__',\n",
       " '__reduce__',\n",
       " '__reduce_ex__',\n",
       " '__repr__',\n",
       " '__setattr__',\n",
       " '__setstate__',\n",
       " '__sizeof__',\n",
       " '__str__',\n",
       " '__subclasshook__',\n",
       " '__weakref__',\n",
       " 'adapters',\n",
       " 'auth',\n",
       " 'cert',\n",
       " 'close',\n",
       " 'cookies',\n",
       " 'delete',\n",
       " 'get',\n",
       " 'get_adapter',\n",
       " 'get_redirect_target',\n",
       " 'head',\n",
       " 'headers',\n",
       " 'hooks',\n",
       " 'max_redirects',\n",
       " 'merge_environment_settings',\n",
       " 'mount',\n",
       " 'options',\n",
       " 'params',\n",
       " 'patch',\n",
       " 'post',\n",
       " 'prepare_request',\n",
       " 'proxies',\n",
       " 'put',\n",
       " 'rebuild_auth',\n",
       " 'rebuild_method',\n",
       " 'rebuild_proxies',\n",
       " 'request',\n",
       " 'resolve_redirects',\n",
       " 'send',\n",
       " 'stream',\n",
       " 'trust_env',\n",
       " 'verify']"
      ]
     },
     "execution_count": 51,
     "metadata": {},
     "output_type": "execute_result"
    }
   ],
   "source": [
    "dir(s)"
   ]
  },
  {
   "cell_type": "code",
   "execution_count": 59,
   "metadata": {},
   "outputs": [
    {
     "data": {
      "text/plain": [
       "<RequestsCookieJar[Cookie(version=0, name='PHPSESSID', value='7i3tscd031aliq5o6j12ks3egd', port=None, port_specified=False, domain='www.yiparts.com', domain_specified=False, domain_initial_dot=False, path='/', path_specified=True, secure=False, expires=None, discard=True, comment=None, comment_url=None, rest={'HttpOnly': None}, rfc2109=False), Cookie(version=0, name='SearchType', value='vin', port=None, port_specified=False, domain='www.yiparts.com', domain_specified=False, domain_initial_dot=False, path='/', path_specified=True, secure=False, expires=1523550528, discard=False, comment=None, comment_url=None, rest={}, rfc2109=False), Cookie(version=0, name='Searchvin', value='LSJW24H32AS068007', port=None, port_specified=False, domain='www.yiparts.com', domain_specified=False, domain_initial_dot=False, path='/', path_specified=True, secure=False, expires=1523550528, discard=False, comment=None, comment_url=None, rest={}, rfc2109=False)]>"
      ]
     },
     "execution_count": 59,
     "metadata": {},
     "output_type": "execute_result"
    }
   ],
   "source": [
    "s.cookies"
   ]
  },
  {
   "cell_type": "code",
   "execution_count": 63,
   "metadata": {},
   "outputs": [
    {
     "name": "stdout",
     "output_type": "stream",
     "text": [
      "['PHPSESSID', 'SearchType', 'Searchvin']\n"
     ]
    }
   ],
   "source": [
    "print(s.cookies.keys())"
   ]
  },
  {
   "cell_type": "code",
   "execution_count": 81,
   "metadata": {},
   "outputs": [
    {
     "data": {
      "text/plain": [
       "{'Hm_lpvt_d6d66a78d863e895c324e752879449ea': '1523035264',\n",
       " 'Hm_lvt_d6d66a78d863e895c324e752879449ea': '1522929248,1522929410',\n",
       " 'PHPSESSID': 'l300f8jl6iej2nahdddn6ae6up',\n",
       " 'SearchType': 'vin',\n",
       " 'Searchvin': 'LSJW24H32AS068007'}"
      ]
     },
     "execution_count": 81,
     "metadata": {},
     "output_type": "execute_result"
    }
   ],
   "source": [
    "requests.utils.dict_from_cookiejar(s.cookies)"
   ]
  },
  {
   "cell_type": "code",
   "execution_count": 65,
   "metadata": {},
   "outputs": [
    {
     "data": {
      "text/plain": [
       "{'SearchType': 'vin', 'Searchvin': 'LSJW24H32AS068007'}"
      ]
     },
     "execution_count": 65,
     "metadata": {},
     "output_type": "execute_result"
    }
   ],
   "source": [
    "requests.utils.dict_from_cookiejar(response.cookies)"
   ]
  },
  {
   "cell_type": "code",
   "execution_count": null,
   "metadata": {},
   "outputs": [],
   "source": [
    "#将CookieJar转为字典：\n",
    "cookies = requests.utils.dict_from_cookiejar(r.cookies)\n",
    "\n",
    "#将字典转为CookieJar：\n",
    "cookies = requests.utils.cookiejar_from_dict(cookie_dict, cookiejar=None, overwrite=True)\n",
    "\n",
    "#其中cookie_dict是要转换字典\n",
    "\n",
    "转换完之后就可以把它赋给cookies 并传入到session中了：\n",
    "\n",
    "s = requests.Session()\n",
    "s.cookies = cookies"
   ]
  },
  {
   "cell_type": "code",
   "execution_count": 58,
   "metadata": {},
   "outputs": [
    {
     "name": "stderr",
     "output_type": "stream",
     "text": [
      "/usr/local/lib/python3.5/dist-packages/PIL/Image.py:969: UserWarning: Couldn't allocate palette entry for transparency\n",
      "  \"for transparency\")\n"
     ]
    },
    {
     "ename": "TypeError",
     "evalue": "int() argument must be a string, a bytes-like object or a number, not 'tuple'",
     "output_type": "error",
     "traceback": [
      "\u001b[0;31m---------------------------------------------------------------------------\u001b[0m",
      "\u001b[0;31mTypeError\u001b[0m                                 Traceback (most recent call last)",
      "\u001b[0;32m<ipython-input-58-4b36c6483b3b>\u001b[0m in \u001b[0;36m<module>\u001b[0;34m()\u001b[0m\n\u001b[1;32m      2\u001b[0m \u001b[0;32mimport\u001b[0m \u001b[0mpytesseract\u001b[0m\u001b[0;34m\u001b[0m\u001b[0m\n\u001b[1;32m      3\u001b[0m \u001b[0mim\u001b[0m \u001b[0;34m=\u001b[0m \u001b[0mImage\u001b[0m\u001b[0;34m.\u001b[0m\u001b[0mopen\u001b[0m\u001b[0;34m(\u001b[0m\u001b[0;34m'code_img.gif'\u001b[0m\u001b[0;34m)\u001b[0m\u001b[0;34m\u001b[0m\u001b[0m\n\u001b[0;32m----> 4\u001b[0;31m \u001b[0maa\u001b[0m \u001b[0;34m=\u001b[0m \u001b[0mpytesseract\u001b[0m\u001b[0;34m.\u001b[0m\u001b[0mimage_to_string\u001b[0m\u001b[0;34m(\u001b[0m\u001b[0mim\u001b[0m\u001b[0;34m)\u001b[0m\u001b[0;34m\u001b[0m\u001b[0m\n\u001b[0m\u001b[1;32m      5\u001b[0m \u001b[0mprint\u001b[0m\u001b[0;34m(\u001b[0m\u001b[0maa\u001b[0m\u001b[0;34m)\u001b[0m\u001b[0;34m\u001b[0m\u001b[0m\n",
      "\u001b[0;32m/usr/local/lib/python3.5/dist-packages/pytesseract/pytesseract.py\u001b[0m in \u001b[0;36mimage_to_string\u001b[0;34m(image, lang, config, nice, boxes, output_type)\u001b[0m\n\u001b[1;32m    191\u001b[0m         \u001b[0;32mreturn\u001b[0m \u001b[0mrun_and_get_output\u001b[0m\u001b[0;34m(\u001b[0m\u001b[0mimage\u001b[0m\u001b[0;34m,\u001b[0m \u001b[0;34m'txt'\u001b[0m\u001b[0;34m,\u001b[0m \u001b[0mlang\u001b[0m\u001b[0;34m,\u001b[0m \u001b[0mconfig\u001b[0m\u001b[0;34m,\u001b[0m \u001b[0mnice\u001b[0m\u001b[0;34m,\u001b[0m \u001b[0;32mTrue\u001b[0m\u001b[0;34m)\u001b[0m\u001b[0;34m\u001b[0m\u001b[0m\n\u001b[1;32m    192\u001b[0m \u001b[0;34m\u001b[0m\u001b[0m\n\u001b[0;32m--> 193\u001b[0;31m     \u001b[0;32mreturn\u001b[0m \u001b[0mrun_and_get_output\u001b[0m\u001b[0;34m(\u001b[0m\u001b[0mimage\u001b[0m\u001b[0;34m,\u001b[0m \u001b[0;34m'txt'\u001b[0m\u001b[0;34m,\u001b[0m \u001b[0mlang\u001b[0m\u001b[0;34m,\u001b[0m \u001b[0mconfig\u001b[0m\u001b[0;34m,\u001b[0m \u001b[0mnice\u001b[0m\u001b[0;34m)\u001b[0m\u001b[0;34m\u001b[0m\u001b[0m\n\u001b[0m\u001b[1;32m    194\u001b[0m \u001b[0;34m\u001b[0m\u001b[0m\n\u001b[1;32m    195\u001b[0m \u001b[0;34m\u001b[0m\u001b[0m\n",
      "\u001b[0;32m/usr/local/lib/python3.5/dist-packages/pytesseract/pytesseract.py\u001b[0m in \u001b[0;36mrun_and_get_output\u001b[0;34m(image, extension, lang, config, nice, return_bytes)\u001b[0m\n\u001b[1;32m    128\u001b[0m     \u001b[0mimg_extension\u001b[0m \u001b[0;34m=\u001b[0m \u001b[0;34m''\u001b[0m\u001b[0;34m\u001b[0m\u001b[0m\n\u001b[1;32m    129\u001b[0m     \u001b[0;32mtry\u001b[0m\u001b[0;34m:\u001b[0m\u001b[0;34m\u001b[0m\u001b[0m\n\u001b[0;32m--> 130\u001b[0;31m         \u001b[0mtemp_name\u001b[0m\u001b[0;34m,\u001b[0m \u001b[0mimg_extension\u001b[0m \u001b[0;34m=\u001b[0m \u001b[0msave_image\u001b[0m\u001b[0;34m(\u001b[0m\u001b[0mimage\u001b[0m\u001b[0;34m)\u001b[0m\u001b[0;34m\u001b[0m\u001b[0m\n\u001b[0m\u001b[1;32m    131\u001b[0m         kwargs = {\n\u001b[1;32m    132\u001b[0m             \u001b[0;34m'input_filename'\u001b[0m\u001b[0;34m:\u001b[0m \u001b[0mtemp_name\u001b[0m \u001b[0;34m+\u001b[0m \u001b[0mos\u001b[0m\u001b[0;34m.\u001b[0m\u001b[0mextsep\u001b[0m \u001b[0;34m+\u001b[0m \u001b[0mimg_extension\u001b[0m\u001b[0;34m,\u001b[0m\u001b[0;34m\u001b[0m\u001b[0m\n",
      "\u001b[0;32m/usr/local/lib/python3.5/dist-packages/pytesseract/pytesseract.py\u001b[0m in \u001b[0;36msave_image\u001b[0;34m(image)\u001b[0m\n\u001b[1;32m     84\u001b[0m     \u001b[0mtemp_name\u001b[0m \u001b[0;34m=\u001b[0m \u001b[0mtempfile\u001b[0m\u001b[0;34m.\u001b[0m\u001b[0mmktemp\u001b[0m\u001b[0;34m(\u001b[0m\u001b[0mprefix\u001b[0m\u001b[0;34m=\u001b[0m\u001b[0;34m'tess_'\u001b[0m\u001b[0;34m)\u001b[0m\u001b[0;34m\u001b[0m\u001b[0m\n\u001b[1;32m     85\u001b[0m     \u001b[0minput_file_name\u001b[0m \u001b[0;34m=\u001b[0m \u001b[0mtemp_name\u001b[0m \u001b[0;34m+\u001b[0m \u001b[0mos\u001b[0m\u001b[0;34m.\u001b[0m\u001b[0mextsep\u001b[0m \u001b[0;34m+\u001b[0m \u001b[0mimg_extension\u001b[0m\u001b[0;34m\u001b[0m\u001b[0m\n\u001b[0;32m---> 86\u001b[0;31m     \u001b[0mimage\u001b[0m\u001b[0;34m.\u001b[0m\u001b[0msave\u001b[0m\u001b[0;34m(\u001b[0m\u001b[0minput_file_name\u001b[0m\u001b[0;34m,\u001b[0m \u001b[0mformat\u001b[0m\u001b[0;34m=\u001b[0m\u001b[0mimg_extension\u001b[0m\u001b[0;34m,\u001b[0m \u001b[0;34m**\u001b[0m\u001b[0mimage\u001b[0m\u001b[0;34m.\u001b[0m\u001b[0minfo\u001b[0m\u001b[0;34m)\u001b[0m\u001b[0;34m\u001b[0m\u001b[0m\n\u001b[0m\u001b[1;32m     87\u001b[0m     \u001b[0;32mreturn\u001b[0m \u001b[0mtemp_name\u001b[0m\u001b[0;34m,\u001b[0m \u001b[0mimg_extension\u001b[0m\u001b[0;34m\u001b[0m\u001b[0m\n\u001b[1;32m     88\u001b[0m \u001b[0;34m\u001b[0m\u001b[0m\n",
      "\u001b[0;32m/usr/local/lib/python3.5/dist-packages/PIL/Image.py\u001b[0m in \u001b[0;36msave\u001b[0;34m(self, fp, format, **params)\u001b[0m\n\u001b[1;32m   1928\u001b[0m \u001b[0;34m\u001b[0m\u001b[0m\n\u001b[1;32m   1929\u001b[0m         \u001b[0;32mtry\u001b[0m\u001b[0;34m:\u001b[0m\u001b[0;34m\u001b[0m\u001b[0m\n\u001b[0;32m-> 1930\u001b[0;31m             \u001b[0msave_handler\u001b[0m\u001b[0;34m(\u001b[0m\u001b[0mself\u001b[0m\u001b[0;34m,\u001b[0m \u001b[0mfp\u001b[0m\u001b[0;34m,\u001b[0m \u001b[0mfilename\u001b[0m\u001b[0;34m)\u001b[0m\u001b[0;34m\u001b[0m\u001b[0m\n\u001b[0m\u001b[1;32m   1931\u001b[0m         \u001b[0;32mfinally\u001b[0m\u001b[0;34m:\u001b[0m\u001b[0;34m\u001b[0m\u001b[0m\n\u001b[1;32m   1932\u001b[0m             \u001b[0;31m# do what we can to clean up\u001b[0m\u001b[0;34m\u001b[0m\u001b[0;34m\u001b[0m\u001b[0m\n",
      "\u001b[0;32m/usr/local/lib/python3.5/dist-packages/PIL/GifImagePlugin.py\u001b[0m in \u001b[0;36m_save\u001b[0;34m(im, fp, filename, save_all)\u001b[0m\n\u001b[1;32m    466\u001b[0m \u001b[0;34m\u001b[0m\u001b[0m\n\u001b[1;32m    467\u001b[0m     \u001b[0;32mif\u001b[0m \u001b[0;32mnot\u001b[0m \u001b[0msave_all\u001b[0m \u001b[0;32mor\u001b[0m \u001b[0;32mnot\u001b[0m \u001b[0m_write_multiple_frames\u001b[0m\u001b[0;34m(\u001b[0m\u001b[0mim\u001b[0m\u001b[0;34m,\u001b[0m \u001b[0mfp\u001b[0m\u001b[0;34m,\u001b[0m \u001b[0mpalette\u001b[0m\u001b[0;34m)\u001b[0m\u001b[0;34m:\u001b[0m\u001b[0;34m\u001b[0m\u001b[0m\n\u001b[0;32m--> 468\u001b[0;31m         \u001b[0m_write_single_frame\u001b[0m\u001b[0;34m(\u001b[0m\u001b[0mim\u001b[0m\u001b[0;34m,\u001b[0m \u001b[0mfp\u001b[0m\u001b[0;34m,\u001b[0m \u001b[0mpalette\u001b[0m\u001b[0;34m)\u001b[0m\u001b[0;34m\u001b[0m\u001b[0m\n\u001b[0m\u001b[1;32m    469\u001b[0m \u001b[0;34m\u001b[0m\u001b[0m\n\u001b[1;32m    470\u001b[0m     \u001b[0mfp\u001b[0m\u001b[0;34m.\u001b[0m\u001b[0mwrite\u001b[0m\u001b[0;34m(\u001b[0m\u001b[0;34mb\";\"\u001b[0m\u001b[0;34m)\u001b[0m  \u001b[0;31m# end of file\u001b[0m\u001b[0;34m\u001b[0m\u001b[0m\n",
      "\u001b[0;32m/usr/local/lib/python3.5/dist-packages/PIL/GifImagePlugin.py\u001b[0m in \u001b[0;36m_write_single_frame\u001b[0;34m(im, fp, palette)\u001b[0m\n\u001b[1;32m    381\u001b[0m     \u001b[0;32mif\u001b[0m \u001b[0mget_interlace\u001b[0m\u001b[0;34m(\u001b[0m\u001b[0mim\u001b[0m\u001b[0;34m)\u001b[0m\u001b[0;34m:\u001b[0m\u001b[0;34m\u001b[0m\u001b[0m\n\u001b[1;32m    382\u001b[0m         \u001b[0mflags\u001b[0m \u001b[0;34m=\u001b[0m \u001b[0mflags\u001b[0m \u001b[0;34m|\u001b[0m \u001b[0;36m64\u001b[0m\u001b[0;34m\u001b[0m\u001b[0m\n\u001b[0;32m--> 383\u001b[0;31m     \u001b[0m_write_local_header\u001b[0m\u001b[0;34m(\u001b[0m\u001b[0mfp\u001b[0m\u001b[0;34m,\u001b[0m \u001b[0mim\u001b[0m\u001b[0;34m,\u001b[0m \u001b[0;34m(\u001b[0m\u001b[0;36m0\u001b[0m\u001b[0;34m,\u001b[0m \u001b[0;36m0\u001b[0m\u001b[0;34m)\u001b[0m\u001b[0;34m,\u001b[0m \u001b[0mflags\u001b[0m\u001b[0;34m)\u001b[0m\u001b[0;34m\u001b[0m\u001b[0m\n\u001b[0m\u001b[1;32m    384\u001b[0m \u001b[0;34m\u001b[0m\u001b[0m\n\u001b[1;32m    385\u001b[0m     \u001b[0mim_out\u001b[0m\u001b[0;34m.\u001b[0m\u001b[0mencoderconfig\u001b[0m \u001b[0;34m=\u001b[0m \u001b[0;34m(\u001b[0m\u001b[0;36m8\u001b[0m\u001b[0;34m,\u001b[0m \u001b[0mget_interlace\u001b[0m\u001b[0;34m(\u001b[0m\u001b[0mim\u001b[0m\u001b[0;34m)\u001b[0m\u001b[0;34m)\u001b[0m\u001b[0;34m\u001b[0m\u001b[0m\n",
      "\u001b[0;32m/usr/local/lib/python3.5/dist-packages/PIL/GifImagePlugin.py\u001b[0m in \u001b[0;36m_write_local_header\u001b[0;34m(fp, im, offset, flags)\u001b[0m\n\u001b[1;32m    491\u001b[0m         \u001b[0;32mpass\u001b[0m\u001b[0;34m\u001b[0m\u001b[0m\n\u001b[1;32m    492\u001b[0m     \u001b[0;32melse\u001b[0m\u001b[0;34m:\u001b[0m\u001b[0;34m\u001b[0m\u001b[0m\n\u001b[0;32m--> 493\u001b[0;31m         \u001b[0mtransparency\u001b[0m \u001b[0;34m=\u001b[0m \u001b[0mint\u001b[0m\u001b[0;34m(\u001b[0m\u001b[0mtransparency\u001b[0m\u001b[0;34m)\u001b[0m\u001b[0;34m\u001b[0m\u001b[0m\n\u001b[0m\u001b[1;32m    494\u001b[0m         \u001b[0;31m# optimize the block away if transparent color is not used\u001b[0m\u001b[0;34m\u001b[0m\u001b[0;34m\u001b[0m\u001b[0m\n\u001b[1;32m    495\u001b[0m         \u001b[0mtransparent_color_exists\u001b[0m \u001b[0;34m=\u001b[0m \u001b[0;32mTrue\u001b[0m\u001b[0;34m\u001b[0m\u001b[0m\n",
      "\u001b[0;31mTypeError\u001b[0m: int() argument must be a string, a bytes-like object or a number, not 'tuple'"
     ]
    }
   ],
   "source": [
    "from PIL import Image\n",
    "import pytesseract\n",
    "im = Image.open('code_img.gif')\n",
    "aa = pytesseract.image_to_string(im)\n",
    "print(aa)"
   ]
  }
 ],
 "metadata": {
  "kernelspec": {
   "display_name": "Python 3",
   "language": "python",
   "name": "python3"
  },
  "language_info": {
   "codemirror_mode": {
    "name": "ipython",
    "version": 3
   },
   "file_extension": ".py",
   "mimetype": "text/x-python",
   "name": "python",
   "nbconvert_exporter": "python",
   "pygments_lexer": "ipython3",
   "version": "3.5.2"
  }
 },
 "nbformat": 4,
 "nbformat_minor": 2
}
