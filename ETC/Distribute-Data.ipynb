{
 "cells": [
  {
   "cell_type": "code",
   "execution_count": 1,
   "metadata": {},
   "outputs": [],
   "source": [
    "import pandas as pd\n",
    "import matplotlib.pyplot as plt"
   ]
  },
  {
   "cell_type": "code",
   "execution_count": null,
   "metadata": {},
   "outputs": [],
   "source": [
    "names=[\"Names\", \"Birthday\", \"Sex\", \"Address\", \"Plate_num\", \"Car_num\", \"Etc_card\", \"Obu_num\", \"Reg_date\"]\n",
    "with open(\"首讯车辆和用户数据.txt\", 'r', encoding='gbk', errors=\"ignore\") as f:\n",
    "    df_vehicle = pd.read_csv(f, sep='|', names=names, index_col=False)"
   ]
  },
  {
   "cell_type": "code",
   "execution_count": null,
   "metadata": {},
   "outputs": [],
   "source": [
    "df_vehicle.groupby('Sex').Plate_num.count().sort_values(ascending=False)"
   ]
  },
  {
   "cell_type": "code",
   "execution_count": null,
   "metadata": {},
   "outputs": [],
   "source": [
    "import pymysql.cursors\n",
    "\n",
    "# Connect to the database\n",
    "password = input(\"Please input password: \")\n",
    "connection = pymysql.connect(host='localhost',\n",
    "                             user='polarbear',\n",
    "                             password=password,\n",
    "                             db='etc',\n",
    "                             charset='utf8',\n",
    "                             cursorclass=pymysql.cursors.DictCursor)\n",
    "\n",
    "with open(\"首讯车辆和用户数据.txt\", 'r', encoding='gbk', errors=\"ignore\") as f:\n",
    "    try:\n",
    "        text = f.readline()\n",
    "        id = 0\n",
    "        while text:\n",
    "            text = text.strip().strip('|')\n",
    "            try:\n",
    "                with connection.cursor() as cursor:\n",
    "                    sql = \"insert into distribution(Id, Name, Birthday, Sex, Address, Plate_num, Car_num, Etc_card, Obu_num, Reg_date) values(%s, %s, %s, %s, %s, %s, %s, %s, %s, %s)\"\n",
    "                    cursor.execute(sql, [str(id)] + text.split('|'))\n",
    "                connection.commit()\n",
    "            except Exception as e:\n",
    "                print(e)\n",
    "                print(\"ID: {}, Text: {}\".format(id, text))\n",
    "                \n",
    "            id += 1\n",
    "            text = f.readline()\n",
    "    except Exception as e:\n",
    "        print(e)\n",
    "\n",
    "connection.close()"
   ]
  }
 ],
 "metadata": {
  "kernelspec": {
   "display_name": "Python 3",
   "language": "python",
   "name": "python3"
  },
  "language_info": {
   "codemirror_mode": {
    "name": "ipython",
    "version": 3
   },
   "file_extension": ".py",
   "mimetype": "text/x-python",
   "name": "python",
   "nbconvert_exporter": "python",
   "pygments_lexer": "ipython3",
   "version": "3.5.2"
  }
 },
 "nbformat": 4,
 "nbformat_minor": 2
}
