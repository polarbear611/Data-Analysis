{
 "cells": [
  {
   "cell_type": "code",
   "execution_count": 2,
   "metadata": {},
   "outputs": [
    {
     "name": "stderr",
     "output_type": "stream",
     "text": [
      "Getting uuid of QR code.\n",
      "Downloading QR code.\n",
      "Please scan the QR code to log in.\n",
      "Please press confirm on your phone.\n",
      "Loading the contact, this may take a little while.\n",
      "Login successfully as 黄钦\n"
     ]
    }
   ],
   "source": [
    "import itchat\n",
    "itchat.auto_login(hotReload = True)\n",
    "friends = itchat.get_friends(update = True)"
   ]
  },
  {
   "cell_type": "code",
   "execution_count": 4,
   "metadata": {},
   "outputs": [
    {
     "data": {
      "text/plain": [
       "dict_keys(['MemberList', 'UserName', 'City', 'DisplayName', 'PYQuanPin', 'RemarkPYInitial', 'Province', 'KeyWord', 'RemarkName', 'PYInitial', 'EncryChatRoomId', 'Alias', 'Signature', 'NickName', 'RemarkPYQuanPin', 'HeadImgUrl', 'UniFriend', 'Sex', 'AppAccountFlag', 'VerifyFlag', 'ChatRoomId', 'HideInputBarFlag', 'AttrStatus', 'SnsFlag', 'MemberCount', 'OwnerUin', 'ContactFlag', 'Uin', 'StarFriend', 'Statues', 'WebWxPluginSwitch', 'HeadImgFlag', 'IsOwner'])"
      ]
     },
     "execution_count": 4,
     "metadata": {},
     "output_type": "execute_result"
    }
   ],
   "source": [
    "friends[0].keys()"
   ]
  },
  {
   "cell_type": "code",
   "execution_count": 6,
   "metadata": {},
   "outputs": [],
   "source": [
    "sexes = [friend['Sex'] for friend in friends[1:]]"
   ]
  },
  {
   "cell_type": "code",
   "execution_count": 7,
   "metadata": {},
   "outputs": [],
   "source": [
    "from collections import Counter"
   ]
  },
  {
   "cell_type": "code",
   "execution_count": 8,
   "metadata": {},
   "outputs": [],
   "source": [
    "counts = [c[1] for c in Counter(sexes).items()]"
   ]
  },
  {
   "cell_type": "code",
   "execution_count": 10,
   "metadata": {},
   "outputs": [],
   "source": [
    "import matplotlib.pyplot as plt"
   ]
  },
  {
   "cell_type": "code",
   "execution_count": 11,
   "metadata": {},
   "outputs": [
    {
     "data": {
      "image/png": "[encoded data removed]",
      "text/plain": [
       "<matplotlib.figure.Figure at 0x2fa50b0>"
      ]
     },
     "metadata": {},
     "output_type": "display_data"
    },
    {
     "name": "stderr",
     "output_type": "stream",
     "text": [
      "LOG OUT!\n"
     ]
    }
   ],
   "source": [
    "labels = ['Unknown', 'Male', 'Famale']\n",
    "colors = ['red', 'yellowgreen', 'lightskyblue']\n",
    "plt.figure(figsize=(8, 5), dpi = 80)\n",
    "plt.rc('font', family='SimHei', size=13)\n",
    "plt.axes(aspect = 1)\n",
    "plt.pie(counts, labels = labels,\n",
    "\t\tcolors = colors,\n",
    "\t\tlabeldistance = 1.1,\n",
    "\t\tautopct = \"%3.1f%%\",\n",
    "\t\tshadow = False,\n",
    "\t\tstartangle = 90, \n",
    "\t\tpctdistance = 0.6)\n",
    "plt.legend(loc = 'upper right')\n",
    "plt.title(u'%s的微信好友性别组成' % friends[0]['NickName'])\n",
    "plt.show()"
   ]
  },
  {
   "cell_type": "code",
   "execution_count": 13,
   "metadata": {},
   "outputs": [
    {
     "data": {
      "text/plain": [
       "375"
      ]
     },
     "execution_count": 13,
     "metadata": {},
     "output_type": "execute_result"
    }
   ],
   "source": [
    "len(friends)"
   ]
  },
  {
   "cell_type": "code",
   "execution_count": 16,
   "metadata": {},
   "outputs": [],
   "source": [
    "import TencentYoutuyun\n",
    "appid = '10122237'\n",
    "secret_id = 'AKID77zhEbe8798xb5pWTJzVq11ykLl1rygH'\n",
    "secret_key = 'ZxAD5nKzTmttiLn3EE2hBUcaP5bx8C8v'\n",
    "userid = '250761123'\n",
    "end_point = TencentYoutuyun.conf.API_YOUTU_END_POINT\n",
    "youtu = TencentYoutuyun.YouTu(appid, secret_id, secret_key, userid, end_point)"
   ]
  },
  {
   "cell_type": "code",
   "execution_count": 20,
   "metadata": {},
   "outputs": [],
   "source": [
    "import pandas as pd"
   ]
  },
  {
   "cell_type": "code",
   "execution_count": 22,
   "metadata": {},
   "outputs": [],
   "source": [
    "df_friends = pd.DataFrame(friends)"
   ]
  },
  {
   "cell_type": "code",
   "execution_count": 25,
   "metadata": {},
   "outputs": [
    {
     "data": {
      "text/plain": [
       "Index(['Alias', 'AppAccountFlag', 'AttrStatus', 'ChatRoomId', 'City',\n",
       "       'ContactFlag', 'DisplayName', 'EncryChatRoomId', 'HeadImgFlag',\n",
       "       'HeadImgUrl', 'HideInputBarFlag', 'IsOwner', 'KeyWord', 'MemberCount',\n",
       "       'MemberList', 'NickName', 'OwnerUin', 'PYInitial', 'PYQuanPin',\n",
       "       'Province', 'RemarkName', 'RemarkPYInitial', 'RemarkPYQuanPin', 'Sex',\n",
       "       'Signature', 'SnsFlag', 'StarFriend', 'Statues', 'Uin', 'UniFriend',\n",
       "       'UserName', 'VerifyFlag', 'WebWxPluginSwitch'],\n",
       "      dtype='object')"
      ]
     },
     "execution_count": 25,
     "metadata": {},
     "output_type": "execute_result"
    }
   ],
   "source": [
    "df_friends.columns"
   ]
  },
  {
   "cell_type": "code",
   "execution_count": 40,
   "metadata": {},
   "outputs": [
    {
     "data": {
      "text/plain": [
       "305    @55b42855992ecfa8a87eec4040267c976851cafbb5b59...\n",
       "Name: UserName, dtype: object"
      ]
     },
     "execution_count": 40,
     "metadata": {},
     "output_type": "execute_result"
    }
   ],
   "source": [
    "df_friends[df_friends.NickName == '陈佳'].UserName"
   ]
  },
  {
   "cell_type": "code",
   "execution_count": 42,
   "metadata": {},
   "outputs": [],
   "source": [
    "cj = friends[305]['UserName']"
   ]
  },
  {
   "cell_type": "code",
   "execution_count": 49,
   "metadata": {},
   "outputs": [
    {
     "name": "stderr",
     "output_type": "stream",
     "text": [
      "Getting uuid of QR code.\n",
      "Downloading QR code.\n",
      "Please scan the QR code to log in.\n",
      "Please press confirm on your phone.\n",
      "Loading the contact, this may take a little while.\n",
      "Login successfully as 黄钦\n"
     ]
    }
   ],
   "source": [
    "itchat.auto_login(hotReload = True)\n",
    "imgData = itchat.get_head_img(userName = cj)"
   ]
  },
  {
   "cell_type": "code",
   "execution_count": 54,
   "metadata": {},
   "outputs": [
    {
     "ename": "TypeError",
     "evalue": "a bytes-like object is required, not 'ReturnValue'",
     "output_type": "error",
     "traceback": [
      "\u001b[1;31m---------------------------------------------------------------------------\u001b[0m",
      "\u001b[1;31mTypeError\u001b[0m                                 Traceback (most recent call last)",
      "\u001b[1;32m<ipython-input-54-06a4fbacf8de>\u001b[0m in \u001b[0;36m<module>\u001b[1;34m()\u001b[0m\n\u001b[0;32m      1\u001b[0m \u001b[0mimgData\u001b[0m \u001b[1;33m=\u001b[0m \u001b[0mitchat\u001b[0m\u001b[1;33m.\u001b[0m\u001b[0mget_head_img\u001b[0m\u001b[1;33m(\u001b[0m\u001b[0muserName\u001b[0m \u001b[1;33m=\u001b[0m \u001b[0mcj\u001b[0m\u001b[1;33m)\u001b[0m\u001b[1;33m\u001b[0m\u001b[0m\n\u001b[0;32m      2\u001b[0m \u001b[1;32mwith\u001b[0m \u001b[0mopen\u001b[0m\u001b[1;33m(\u001b[0m\u001b[1;34m'cj.jpg'\u001b[0m\u001b[1;33m,\u001b[0m \u001b[1;34m'wb'\u001b[0m\u001b[1;33m)\u001b[0m \u001b[1;32mas\u001b[0m \u001b[0mf\u001b[0m\u001b[1;33m:\u001b[0m\u001b[1;33m\u001b[0m\u001b[0m\n\u001b[1;32m----> 3\u001b[1;33m     \u001b[0mf\u001b[0m\u001b[1;33m.\u001b[0m\u001b[0mwrite\u001b[0m\u001b[1;33m(\u001b[0m\u001b[0mimgData\u001b[0m\u001b[1;33m)\u001b[0m\u001b[1;33m\u001b[0m\u001b[0m\n\u001b[0m",
      "\u001b[1;31mTypeError\u001b[0m: a bytes-like object is required, not 'ReturnValue'"
     ]
    }
   ],
   "source": [
    "imgData = itchat.get_head_img(userName = cj)\n",
    "with open('cj.jpg', 'wb') as f:\n",
    "    f.write(imgData)"
   ]
  },
  {
   "cell_type": "code",
   "execution_count": 56,
   "metadata": {},
   "outputs": [
    {
     "data": {
      "text/plain": [
       "'@55b42855992ecfa8a87eec4040267c976851cafbb5b59a2ee84555e28f49335b'"
      ]
     },
     "execution_count": 56,
     "metadata": {},
     "output_type": "execute_result"
    }
   ],
   "source": [
    "cj"
   ]
  },
  {
   "cell_type": "code",
   "execution_count": 57,
   "metadata": {},
   "outputs": [
    {
     "data": {
      "text/plain": [
       "305    @017c0ec701ce0eec4a5a9b6d8780f96c66d04c479eafe...\n",
       "Name: UserName, dtype: object"
      ]
     },
     "execution_count": 57,
     "metadata": {},
     "output_type": "execute_result"
    }
   ],
   "source": [
    "friends = itchat.get_friends(update = True)\n",
    "df_friends = pd.DataFrame(friends)\n",
    "df_friends[df_friends.NickName == '陈佳'].UserName"
   ]
  },
  {
   "cell_type": "code",
   "execution_count": 58,
   "metadata": {},
   "outputs": [],
   "source": [
    "cj = friends[305]['UserName']\n",
    "imgData = itchat.get_head_img(userName = cj)\n",
    "imgData = itchat.get_head_img(userName = cj)\n",
    "with open('cj.jpg', 'wb') as f:\n",
    "    f.write(imgData)"
   ]
  },
  {
   "cell_type": "code",
   "execution_count": 59,
   "metadata": {},
   "outputs": [],
   "source": [
    "import TencentYoutuyun\n",
    "appid = '10122237'\n",
    "secret_id = 'AKID77zhEbe8798xb5pWTJzVq11ykLl1rygH'\n",
    "secret_key = 'ZxAD5nKzTmttiLn3EE2hBUcaP5bx8C8v'\n",
    "userid = '250761123'\n",
    "end_point = TencentYoutuyun.conf.API_YOUTU_END_POINT\n",
    "youtu = TencentYoutuyun.YouTu(appid, secret_id, secret_key, userid, end_point)"
   ]
  },
  {
   "cell_type": "code",
   "execution_count": 60,
   "metadata": {},
   "outputs": [
    {
     "data": {
      "text/plain": [
       "{'errorcode': 0,\n",
       " 'errormsg': 'OK',\n",
       " 'face': [{'age': 22,\n",
       "   'beauty': 83,\n",
       "   'expression': 3,\n",
       "   'face_id': '2482911302877510496',\n",
       "   'face_shape': {'face_profile': [{'x': 234, 'y': 422},\n",
       "     {'x': 236, 'y': 465},\n",
       "     {'x': 242, 'y': 508},\n",
       "     {'x': 253, 'y': 549},\n",
       "     {'x': 268, 'y': 589},\n",
       "     {'x': 287, 'y': 628},\n",
       "     {'x': 311, 'y': 663},\n",
       "     {'x': 339, 'y': 696},\n",
       "     {'x': 368, 'y': 726},\n",
       "     {'x': 403, 'y': 750},\n",
       "     {'x': 445, 'y': 759},\n",
       "     {'x': 486, 'y': 749},\n",
       "     {'x': 520, 'y': 723},\n",
       "     {'x': 549, 'y': 692},\n",
       "     {'x': 577, 'y': 659},\n",
       "     {'x': 600, 'y': 624},\n",
       "     {'x': 619, 'y': 585},\n",
       "     {'x': 633, 'y': 545},\n",
       "     {'x': 643, 'y': 503},\n",
       "     {'x': 649, 'y': 461},\n",
       "     {'x': 650, 'y': 422}],\n",
       "    'left_eye': [{'x': 299, 'y': 427},\n",
       "     {'x': 317, 'y': 438},\n",
       "     {'x': 337, 'y': 442},\n",
       "     {'x': 358, 'y': 440},\n",
       "     {'x': 377, 'y': 434},\n",
       "     {'x': 361, 'y': 420},\n",
       "     {'x': 340, 'y': 415},\n",
       "     {'x': 319, 'y': 417}],\n",
       "    'left_eyebrow': [{'x': 249, 'y': 373},\n",
       "     {'x': 286, 'y': 372},\n",
       "     {'x': 324, 'y': 373},\n",
       "     {'x': 362, 'y': 378},\n",
       "     {'x': 400, 'y': 382},\n",
       "     {'x': 368, 'y': 353},\n",
       "     {'x': 326, 'y': 343},\n",
       "     {'x': 282, 'y': 345}],\n",
       "    'mouth': [{'x': 372, 'y': 652},\n",
       "     {'x': 390, 'y': 674},\n",
       "     {'x': 414, 'y': 690},\n",
       "     {'x': 443, 'y': 695},\n",
       "     {'x': 472, 'y': 689},\n",
       "     {'x': 496, 'y': 672},\n",
       "     {'x': 513, 'y': 648},\n",
       "     {'x': 487, 'y': 647},\n",
       "     {'x': 461, 'y': 642},\n",
       "     {'x': 441, 'y': 649},\n",
       "     {'x': 421, 'y': 643},\n",
       "     {'x': 397, 'y': 649},\n",
       "     {'x': 395, 'y': 659},\n",
       "     {'x': 418, 'y': 664},\n",
       "     {'x': 442, 'y': 668},\n",
       "     {'x': 466, 'y': 663},\n",
       "     {'x': 490, 'y': 657},\n",
       "     {'x': 490, 'y': 654},\n",
       "     {'x': 466, 'y': 659},\n",
       "     {'x': 442, 'y': 664},\n",
       "     {'x': 419, 'y': 661},\n",
       "     {'x': 395, 'y': 657}],\n",
       "    'nose': [{'x': 445, 'y': 562},\n",
       "     {'x': 440, 'y': 436},\n",
       "     {'x': 427, 'y': 470},\n",
       "     {'x': 413, 'y': 503},\n",
       "     {'x': 400, 'y': 537},\n",
       "     {'x': 385, 'y': 570},\n",
       "     {'x': 415, 'y': 587},\n",
       "     {'x': 446, 'y': 594},\n",
       "     {'x': 475, 'y': 586},\n",
       "     {'x': 504, 'y': 567},\n",
       "     {'x': 488, 'y': 535},\n",
       "     {'x': 472, 'y': 502},\n",
       "     {'x': 456, 'y': 469}],\n",
       "    'right_eye': [{'x': 581, 'y': 421},\n",
       "     {'x': 563, 'y': 432},\n",
       "     {'x': 544, 'y': 437},\n",
       "     {'x': 523, 'y': 435},\n",
       "     {'x': 503, 'y': 429},\n",
       "     {'x': 519, 'y': 415},\n",
       "     {'x': 540, 'y': 410},\n",
       "     {'x': 561, 'y': 411}],\n",
       "    'right_eyebrow': [{'x': 620, 'y': 359},\n",
       "     {'x': 585, 'y': 359},\n",
       "     {'x': 549, 'y': 362},\n",
       "     {'x': 514, 'y': 369},\n",
       "     {'x': 479, 'y': 374},\n",
       "     {'x': 507, 'y': 346},\n",
       "     {'x': 546, 'y': 336},\n",
       "     {'x': 587, 'y': 336}]},\n",
       "   'gender': 99,\n",
       "   'glass': False,\n",
       "   'glasses': 0,\n",
       "   'hat': 0,\n",
       "   'height': 506.0,\n",
       "   'mask': 0,\n",
       "   'pitch': 13,\n",
       "   'roll': 2,\n",
       "   'width': 506.0,\n",
       "   'x': 186,\n",
       "   'y': 245,\n",
       "   'yaw': 2}],\n",
       " 'image_height': 901,\n",
       " 'image_width': 901,\n",
       " 'session_id': ''}"
      ]
     },
     "execution_count": 60,
     "metadata": {},
     "output_type": "execute_result"
    }
   ],
   "source": [
    "youtu.DetectFace('cj.jpg')"
   ]
  },
  {
   "cell_type": "code",
   "execution_count": 63,
   "metadata": {},
   "outputs": [
    {
     "name": "stdout",
     "output_type": "stream",
     "text": [
      "Help on method imagetag in module TencentYoutuyun.youtu:\n",
      "\n",
      "imagetag(image_path, data_type=0, seq='') method of TencentYoutuyun.youtu.YouTu instance\n",
      "\n"
     ]
    }
   ],
   "source": [
    "help(youtu.imagetag)"
   ]
  },
  {
   "cell_type": "code",
   "execution_count": 66,
   "metadata": {},
   "outputs": [],
   "source": [
    "tag = youtu.imagetag('cj.jpg')"
   ]
  },
  {
   "cell_type": "code",
   "execution_count": 72,
   "metadata": {},
   "outputs": [
    {
     "data": {
      "text/plain": [
       "{'errorcode': 0,\n",
       " 'errormsg': 'OK',\n",
       " 'faces': [],\n",
       " 'tags': [{'tag_confidence': 22, 'tag_name': 'å¥³å\\xad©'},\n",
       "  {'tag_confidence': 39, 'tag_name': 'ç\\x94·å\\xad©'}]}"
      ]
     },
     "execution_count": 72,
     "metadata": {},
     "output_type": "execute_result"
    }
   ],
   "source": [
    "tag"
   ]
  },
  {
   "cell_type": "code",
   "execution_count": 74,
   "metadata": {},
   "outputs": [],
   "source": [
    "import json"
   ]
  },
  {
   "cell_type": "code",
   "execution_count": 76,
   "metadata": {},
   "outputs": [
    {
     "data": {
      "text/plain": [
       "dict"
      ]
     },
     "execution_count": 76,
     "metadata": {},
     "output_type": "execute_result"
    }
   ],
   "source": [
    "type(tag)"
   ]
  },
  {
   "cell_type": "code",
   "execution_count": 90,
   "metadata": {},
   "outputs": [],
   "source": [
    "from functools import reduce"
   ]
  },
  {
   "cell_type": "code",
   "execution_count": 93,
   "metadata": {},
   "outputs": [],
   "source": [
    "tags = reduce(lambda x, y: x+y, [t['tag_name'] for t in tag['tags']])"
   ]
  },
  {
   "cell_type": "code",
   "execution_count": 105,
   "metadata": {},
   "outputs": [],
   "source": [
    "img_tags = tags.encode('iso8859-1').decode('utf-8')"
   ]
  },
  {
   "cell_type": "code",
   "execution_count": 86,
   "metadata": {},
   "outputs": [
    {
     "data": {
      "text/plain": [
       "[{'tag_confidence': 22, 'tag_name': 'å¥³å\\xad©'},\n",
       " {'tag_confidence': 39, 'tag_name': 'ç\\x94·å\\xad©'}]"
      ]
     },
     "execution_count": 86,
     "metadata": {},
     "output_type": "execute_result"
    }
   ],
   "source": [
    "tag['tags']"
   ]
  },
  {
   "cell_type": "code",
   "execution_count": 100,
   "metadata": {},
   "outputs": [],
   "source": [
    "import numpy as np"
   ]
  },
  {
   "cell_type": "code",
   "execution_count": 102,
   "metadata": {},
   "outputs": [],
   "source": [
    "from PIL import Image"
   ]
  },
  {
   "cell_type": "code",
   "execution_count": 116,
   "metadata": {},
   "outputs": [],
   "source": [
    "back_coloring = np.array(Image.open('ever.jpg'))"
   ]
  },
  {
   "cell_type": "code",
   "execution_count": 98,
   "metadata": {},
   "outputs": [],
   "source": [
    "from wordcloud import WordCloud"
   ]
  },
  {
   "cell_type": "code",
   "execution_count": 117,
   "metadata": {},
   "outputs": [],
   "source": [
    "wordcloud = WordCloud(\n",
    "\n",
    "        font_path='simfang.ttf',\n",
    "\n",
    "        background_color=\"white\",\n",
    "\n",
    "        max_words=1200,\n",
    "\n",
    "        mask=back_coloring, \n",
    "\n",
    "        max_font_size=75,\n",
    "\n",
    "        random_state=45,\n",
    "\n",
    "        width=800, \n",
    "\n",
    "        height=480, \n",
    "\n",
    "        margin=15\n",
    "\n",
    "    )"
   ]
  },
  {
   "cell_type": "code",
   "execution_count": 118,
   "metadata": {},
   "outputs": [
    {
     "data": {
      "image/png": "[encoded data removed]",
      "text/plain": [
       "<matplotlib.figure.Figure at 0xbfafe50>"
      ]
     },
     "metadata": {},
     "output_type": "display_data"
    },
    {
     "name": "stderr",
     "output_type": "stream",
     "text": [
      "LOG OUT!\n"
     ]
    }
   ],
   "source": [
    "wordcloud.generate('基于,ETC,增值,业务,拓展,的,需要，为,分析,ETC,用户,消费,习惯，达到,精确化,市场,推广、最大化,利用,现有,用户,资源,的,目标，利用,ETC,用户,基础,信息,大数据，重点,分析,用户,习惯,通行,区域、车辆保险情况、车辆具体型号品牌等，进行多维度分析分析，以大数据分析的模式，最终达到精确市场推广的效果')\n",
    "\n",
    "plt.imshow(wordcloud)\n",
    "\n",
    "plt.axis(\"off\")\n",
    "\n",
    "plt.show()"
   ]
  },
  {
   "cell_type": "code",
   "execution_count": 112,
   "metadata": {},
   "outputs": [
    {
     "name": "stdout",
     "output_type": "stream",
     "text": [
      "Help on method generate in module wordcloud.wordcloud:\n",
      "\n",
      "generate(text) method of wordcloud.wordcloud.WordCloud instance\n",
      "    Generate wordcloud from text.\n",
      "    \n",
      "    The input \"text\" is expected to be a natural text. If you pass a sorted\n",
      "    list of words, words will appear in your output twice. To remove this\n",
      "    duplication, set ``collocations=False``.\n",
      "    \n",
      "    Alias to generate_from_text.\n",
      "    \n",
      "    Calls process_text and generate_from_frequencies.\n",
      "    \n",
      "    Returns\n",
      "    -------\n",
      "    self\n",
      "\n"
     ]
    }
   ],
   "source": [
    "help(wordcloud.generate)"
   ]
  },
  {
   "cell_type": "code",
   "execution_count": null,
   "metadata": {},
   "outputs": [],
   "source": []
  }
 ],
 "metadata": {
  "kernelspec": {
   "display_name": "Python 3",
   "language": "python",
   "name": "python3"
  },
  "language_info": {
   "codemirror_mode": {
    "name": "ipython",
    "version": 3
   },
   "file_extension": ".py",
   "mimetype": "text/x-python",
   "name": "python",
   "nbconvert_exporter": "python",
   "pygments_lexer": "ipython3",
   "version": "3.6.3"
  }
 },
 "nbformat": 4,
 "nbformat_minor": 2
}
