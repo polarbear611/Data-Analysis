{
 "cells": [
  {
   "cell_type": "code",
   "execution_count": 3,
   "metadata": {},
   "outputs": [],
   "source": [
    "from suds.client import Client\n",
    "from suds.xsd.doctor import ImportDoctor,Import"
   ]
  },
  {
   "cell_type": "code",
   "execution_count": 8,
   "metadata": {},
   "outputs": [],
   "source": [
    "url = 'http://ws.webxml.com.cn/WebServices/WeatherWS.asmx?wsdl'\n",
    "imp = Import('http://www.w3.org/2001/XMLSchema',location='http://www.w3.org/2001/XMLSchema.xsd')\n",
    "imp.filter.add(\"http://WebXml.com.cn/\")\n",
    "doctor = ImportDoctor(imp)\n",
    "client = Client(url,doctor=doctor)"
   ]
  },
  {
   "cell_type": "code",
   "execution_count": 12,
   "metadata": {},
   "outputs": [],
   "source": [
    "region_province = client.service.getRegionProvince()"
   ]
  },
  {
   "cell_type": "code",
   "execution_count": 13,
   "metadata": {},
   "outputs": [
    {
     "name": "stderr",
     "output_type": "stream",
     "text": [
      "attribute (IsDataSet) type, not-found\n",
      "attribute (UseCurrentLocale) type, not-found\n"
     ]
    }
   ],
   "source": [
    "city_dataset_cq = client.service.getSupportCityDataset(theRegionCode='311104')"
   ]
  },
  {
   "cell_type": "code",
   "execution_count": 17,
   "metadata": {},
   "outputs": [],
   "source": [
    "city_weather = client.service.getWeather(\"1533\")"
   ]
  }
 ],
 "metadata": {
  "kernelspec": {
   "display_name": "Python 3",
   "language": "python",
   "name": "python3"
  },
  "language_info": {
   "codemirror_mode": {
    "name": "ipython",
    "version": 3
   },
   "file_extension": ".py",
   "mimetype": "text/x-python",
   "name": "python",
   "nbconvert_exporter": "python",
   "pygments_lexer": "ipython3",
   "version": "3.6.3"
  }
 },
 "nbformat": 4,
 "nbformat_minor": 2
}
