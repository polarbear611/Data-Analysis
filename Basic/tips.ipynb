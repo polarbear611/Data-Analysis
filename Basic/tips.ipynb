{
 "cells": [
  {
   "cell_type": "code",
   "execution_count": null,
   "metadata": {},
   "outputs": [],
   "source": [
    "#pandas根据一列数据更新另一列\n",
    "def number_to_flag(number):\n",
    "    if number > 0:\n",
    "        return '涨'\n",
    "    elif number == 0:\n",
    "        return '平'\n",
    "    else:\n",
    "        return '跌'\n",
    "\n",
    " df['涨跌'] = df['p_change'].map(number_to_flag)\n"
   ]
  },
  {
   "cell_type": "code",
   "execution_count": null,
   "metadata": {},
   "outputs": [],
   "source": [
    "import numpy as np \n",
    "df['涨跌'] = np.sign(df['p_change']) \n",
    "df['涨跌'].replace([-1,0,1], ['跌','平','涨'], inplace = True) "
   ]
  },
  {
   "cell_type": "code",
   "execution_count": null,
   "metadata": {},
   "outputs": [],
   "source": [
    "from django.http import HttpResponse\n",
    "from django.views.decorators.csrf import csrf_exempt\n",
    "from django.views.generic.base import View\n",
    "from lxml import etree\n",
    "from django.utils.encoding import smart_str\n",
    "import hashlib\n",
    "import time\n",
    "from django.template.loader import render_to_string\n",
    "from django.views.decorators.csrf import ensure_csrf_cookie\n",
    "\n",
    "# Create your views here.\n",
    "\n",
    "\n",
    "#csrf_exempt装饰器是取消Django的csrf标记的，毕竟微信不会有这种标记。这次认证通过之后，这个方法你注销了都行，除非你再次认证，不然不会再使用这个方法了。\n",
    "@csrf_exempt\n",
    "#如果request提供，它必须是一个HttpRequest。然后，引擎必须将其以及模板中可用的CSRF令牌。\n",
    "@ensure_csrf_cookie\n",
    "\n",
    "def weixin(request):\n",
    "\n",
    "    if request.method == 'GET':\n",
    "        #下面这四个参数是在接入时，微信的服务器发送过来的参数\n",
    "        signature = request.GET.get('signature', None)\n",
    "        timestamp = request.GET.get('timestamp', None)\n",
    "        nonce = request.GET.get('nonce', None)\n",
    "        echostr = request.GET.get('echostr', None)\n",
    "\n",
    "        #这里的token需要自己设定，主要是和微信的服务器完成验证使用\n",
    "        token = 'WEIXIN_TOKEN'\n",
    "\n",
    "        #把token，timestamp, nonce放在一个序列中，并且按字符排序\n",
    "        hashlist = [token, timestamp, nonce]\n",
    "        hashlist.sort()\n",
    "\n",
    "        #将上面的序列合成一个字符串\n",
    "        hashstr = ''.join([s for s in hashlist])\n",
    "\n",
    "        #通过python标准库中的sha1加密算法，处理上面的字符串，形成新的字符串。\n",
    "        hashstr = hashlib.sha1(hashstr.encode(encoding='utf-8')).hexdigest()\n",
    "\n",
    "        #把我们生成的字符串和微信服务器发送过来的字符串比较，\n",
    "        #如果相同，就把服务器发过来的echostr字符串返回去\n",
    "        if hashstr == signature:\n",
    "          return HttpResponse(echostr)\n",
    "\n",
    "    if request.method == 'POST':\n",
    "        #将程序中字符输出到非 Unicode 环境（比如 HTTP 协议数据）时可以使用 smart_str 方法\n",
    "        data = smart_str(request.body)\n",
    "        print(data)\n",
    "        #将接收到数据字符串转成xml\n",
    "        xml = etree.fromstring(data)\n",
    "\n",
    "        #从xml中读取我们需要的数据。注意这里使用了from接收的to，使用to接收了from，\n",
    "        #这是因为一会我们还要用这些数据来返回消息，这样一会使用看起来更符合逻辑关系\n",
    "        fromUser = xml.find('ToUserName').text\n",
    "        toUser = xml.find('FromUserName').text\n",
    "        msgType = xml.find('MsgType').text\n",
    "\n",
    "        #这里获取当前时间的秒数，time.time()取得的数字是浮点数，所以有了下面的操作\n",
    "        nowtime = str(int(time.time()))\n",
    "\n",
    "        #加载text.xml模板,参见render()调用render_to_string()并将结果馈送到 HttpResponse适合从视图返回的快捷方式 。\n",
    "        if msgType =='text':\n",
    "            content = xml.find('Content').text\n",
    "            rendered = render_to_string('wechat/text.xml',{'toUser': toUser,'fromUser': fromUser,'nowtime': nowtime,'content': '文本消息，功能正在开发中'})\n",
    "            return HttpResponse(rendered)\n",
    "        if msgType =='image':\n",
    "            rendered = render_to_string('wechat/text.xml',{'toUser': toUser,'fromUser': fromUser,'nowtime': nowtime,'content': '图片消息，功能正在开发中'})\n",
    "            return HttpResponse(rendered)\n",
    "        if msgType =='voice':\n",
    "            rendered = render_to_string('wechat/text.xml',{'toUser': toUser,'fromUser': fromUser,'nowtime': nowtime,'content': '语音消息，功能正在开发中'})\n",
    "            return HttpResponse(rendered)\n",
    "        if msgType =='video':\n",
    "            rendered = render_to_string('wechat/text.xml',{'toUser': toUser,'fromUser': fromUser,'nowtime': nowtime,'content': '视频消息，功能正在开发中'})\n",
    "            return HttpResponse(rendered)\n",
    "        if msgType =='shortvideo':\n",
    "            rendered = render_to_string('wechat/text.xml',{'toUser': toUser,'fromUser': fromUser,'nowtime': nowtime,'content': '小视频消息，功能正在开发中'})\n",
    "            return HttpResponse(rendered)\n",
    "        if msgType =='location':\n",
    "            rendered = render_to_string('wechat/text.xml',{'toUser': toUser,'fromUser': fromUser,'nowtime': nowtime,'content': '地理位置消息，功能正在开发中'})\n",
    "            return HttpResponse(rendered)\n",
    "        if msgType =='link':\n",
    "            rendered = render_to_string('wechat/text.xml',{'toUser': toUser,'fromUser': fromUser,'nowtime': nowtime,'content': '链接消息，功能正在开发中'})\n",
    "            return HttpResponse(rendered)"
   ]
  },
  {
   "cell_type": "code",
   "execution_count": null,
   "metadata": {},
   "outputs": [],
   "source": [
    "def TestUrlOpen():\n",
    "  import urllib.request\n",
    "  page = urllib.request.urlopen(\"http://www.webxml.com.cn/WebServices/WeatherWebService.asmx/getWeatherbyCityName?theCityName=58367\")\n",
    "  lines = page.readlines()\n",
    "  page.close()\n",
    "  document = \"\"\n",
    "  for line in lines :\n",
    "    document = document + line.decode('utf-8')\n",
    "\n",
    "  from xml.dom.minidom import parseString\n",
    "  dom =parseString(document)\n",
    "  strings = dom.getElementsByTagName(\"string\")\n",
    "  print (strings[6].childNodes[0].data + \" \" + strings[7].childNodes[0].data)"
   ]
  },
  {
   "cell_type": "code",
   "execution_count": null,
   "metadata": {},
   "outputs": [],
   "source": [
    "def TestSuds() :\n",
    "  from suds import WebFault\n",
    "  from suds.client import Client \n",
    "  url = 'http://webservice.webxml.com.cn/WebServices/WeatherWS.asmx?WSDL'\n",
    "  client = Client(url)\n",
    "  print (client)\n",
    "  print (client.service.getWeather('58367'))"
   ]
  },
  {
   "cell_type": "code",
   "execution_count": 2,
   "metadata": {},
   "outputs": [
    {
     "data": {
      "text/plain": [
       "16.666666666666664"
      ]
     },
     "execution_count": 2,
     "metadata": {},
     "output_type": "execute_result"
    }
   ],
   "source": [
    "500/0.003/10000"
   ]
  },
  {
   "cell_type": "code",
   "execution_count": null,
   "metadata": {},
   "outputs": [],
   "source": [
    "Action: ANTITRUST TOMATOES, CLUELESS BUCKET; Animation: CLASH FREDDY, INCH JET, SNOWMAN ROLLERCOASTER; Children: CABIN FLASH, LEGALLY SECRETARY, MODEL FISH, SPLENDOR PATTON; Classics: GALAXY SWEETHEARTS, STEEL SANTA; Comedy: GROUNDHOG UNCUT, LIFE TWISTED, LION UNCUT; Documentary: HOMEWARD CIDER, METAL ARMAGEDDON, WEDDING APOLLO; Drama: TORQUE BOUND; Family: LOLITA WORLD, SPLASH GUMP; Foreign: FRIDA SLIPPER; Games: GRINCH MASSAGE, MOONWALKER FOOL; Horror: MOTIONS DETAILS, ZHIVAGO CORE; Music: ALONE TRIP, REBEL AIRPORT; New: ATTRACTION NEWTON, CHINATOWN GLADIATOR; Sci-Fi: DAISY MENAGERIE, SOLDIERS EVOLUTION; Sports: DRIVER ANNIE, RIDER CADDYSHACK; Travel: BOONDOCK BALLROOM, LEATHERNECKS DWARFS"
   ]
  },
  {
   "cell_type": "code",
   "execution_count": 2,
   "metadata": {},
   "outputs": [],
   "source": [
    "actor_info = 'Action: ANTITRUST TOMATOES, CLUELESS BUCKET; Animation: CLASH FREDDY, INCH JET, SNOWMAN ROLLERCOASTER; Children: CABIN FLASH, LEGALLY SECRETARY, MODEL FISH, SPLENDOR PATTON; Classics: GALAXY SWEETHEARTS, STEEL SANTA; Comedy: GROUNDHOG UNCUT, LIFE TWISTED, LION UNCUT; Documentary: HOMEWARD CIDER, METAL ARMAGEDDON, WEDDING APOLLO; Drama: TORQUE BOUND; Family: LOLITA WORLD, SPLASH GUMP; Foreign: FRIDA SLIPPER; Games: GRINCH MASSAGE, MOONWALKER FOOL; Horror: MOTIONS DETAILS, ZHIVAGO CORE; Music: ALONE TRIP, REBEL AIRPORT; New: ATTRACTION NEWTON, CHINATOWN GLADIATOR; Sci-Fi: DAISY MENAGERIE, SOLDIERS EVOLUTION; Sports: DRIVER ANNIE, RIDER CADDYSHACK; Travel: BOONDOCK BALLROOM, LEATHERNECKS DWARFS';"
   ]
  },
  {
   "cell_type": "code",
   "execution_count": 3,
   "metadata": {},
   "outputs": [
    {
     "data": {
      "text/plain": [
       "'Action: ANTITRUST TOMATOES, CLUELESS BUCKET; Animation: CLASH FREDDY, INCH JET, SNOWMAN ROLLERCOASTER; Children: CABIN FLASH, LEGALLY SECRETARY, MODEL FISH, SPLENDOR PATTON; Classics: GALAXY SWEETHEARTS, STEEL SANTA; Comedy: GROUNDHOG UNCUT, LIFE TWISTED, LION UNCUT; Documentary: HOMEWARD CIDER, METAL ARMAGEDDON, WEDDING APOLLO; Drama: TORQUE BOUND; Family: LOLITA WORLD, SPLASH GUMP; Foreign: FRIDA SLIPPER; Games: GRINCH MASSAGE, MOONWALKER FOOL; Horror: MOTIONS DETAILS, ZHIVAGO CORE; Music: ALONE TRIP, REBEL AIRPORT; New: ATTRACTION NEWTON, CHINATOWN GLADIATOR; Sci-Fi: DAISY MENAGERIE, SOLDIERS EVOLUTION; Sports: DRIVER ANNIE, RIDER CADDYSHACK; Travel: BOONDOCK BALLROOM, LEATHERNECKS DWARFS'"
      ]
     },
     "execution_count": 3,
     "metadata": {},
     "output_type": "execute_result"
    }
   ],
   "source": [
    "actor_info"
   ]
  },
  {
   "cell_type": "code",
   "execution_count": 4,
   "metadata": {},
   "outputs": [
    {
     "data": {
      "text/plain": [
       "['Action: ANTITRUST TOMATOES, CLUELESS BUCKET',\n",
       " ' Animation: CLASH FREDDY, INCH JET, SNOWMAN ROLLERCOASTER',\n",
       " ' Children: CABIN FLASH, LEGALLY SECRETARY, MODEL FISH, SPLENDOR PATTON',\n",
       " ' Classics: GALAXY SWEETHEARTS, STEEL SANTA',\n",
       " ' Comedy: GROUNDHOG UNCUT, LIFE TWISTED, LION UNCUT',\n",
       " ' Documentary: HOMEWARD CIDER, METAL ARMAGEDDON, WEDDING APOLLO',\n",
       " ' Drama: TORQUE BOUND',\n",
       " ' Family: LOLITA WORLD, SPLASH GUMP',\n",
       " ' Foreign: FRIDA SLIPPER',\n",
       " ' Games: GRINCH MASSAGE, MOONWALKER FOOL',\n",
       " ' Horror: MOTIONS DETAILS, ZHIVAGO CORE',\n",
       " ' Music: ALONE TRIP, REBEL AIRPORT',\n",
       " ' New: ATTRACTION NEWTON, CHINATOWN GLADIATOR',\n",
       " ' Sci-Fi: DAISY MENAGERIE, SOLDIERS EVOLUTION',\n",
       " ' Sports: DRIVER ANNIE, RIDER CADDYSHACK',\n",
       " ' Travel: BOONDOCK BALLROOM, LEATHERNECKS DWARFS']"
      ]
     },
     "execution_count": 4,
     "metadata": {},
     "output_type": "execute_result"
    }
   ],
   "source": [
    "actor_info.split(';')"
   ]
  },
  {
   "cell_type": "code",
   "execution_count": 5,
   "metadata": {},
   "outputs": [
    {
     "name": "stdout",
     "output_type": "stream",
     "text": [
      "Actor_info[Action] =  ANTITRUST TOMATOES, CLUELESS BUCKET\n",
      "Actor_info[ Animation] =  CLASH FREDDY, INCH JET, SNOWMAN ROLLERCOASTER\n",
      "Actor_info[ Children] =  CABIN FLASH, LEGALLY SECRETARY, MODEL FISH, SPLENDOR PATTON\n",
      "Actor_info[ Classics] =  GALAXY SWEETHEARTS, STEEL SANTA\n",
      "Actor_info[ Comedy] =  GROUNDHOG UNCUT, LIFE TWISTED, LION UNCUT\n",
      "Actor_info[ Documentary] =  HOMEWARD CIDER, METAL ARMAGEDDON, WEDDING APOLLO\n",
      "Actor_info[ Drama] =  TORQUE BOUND\n",
      "Actor_info[ Family] =  LOLITA WORLD, SPLASH GUMP\n",
      "Actor_info[ Foreign] =  FRIDA SLIPPER\n",
      "Actor_info[ Games] =  GRINCH MASSAGE, MOONWALKER FOOL\n",
      "Actor_info[ Horror] =  MOTIONS DETAILS, ZHIVAGO CORE\n",
      "Actor_info[ Music] =  ALONE TRIP, REBEL AIRPORT\n",
      "Actor_info[ New] =  ATTRACTION NEWTON, CHINATOWN GLADIATOR\n",
      "Actor_info[ Sci-Fi] =  DAISY MENAGERIE, SOLDIERS EVOLUTION\n",
      "Actor_info[ Sports] =  DRIVER ANNIE, RIDER CADDYSHACK\n",
      "Actor_info[ Travel] =  BOONDOCK BALLROOM, LEATHERNECKS DWARFS\n"
     ]
    }
   ],
   "source": [
    "for pair in actor_info.split(';'):\n",
    "    key, value = pair.split(':')\n",
    "    print('Actor_info[{}] = {}'.format(key, value))"
   ]
  },
  {
   "cell_type": "code",
   "execution_count": 15,
   "metadata": {},
   "outputs": [],
   "source": [
    "d_actor_info = {key.strip(): [v.strip() for v in value.split(',')] for key, value in [ai.split(':') for ai in actor_info.split(';')]}"
   ]
  },
  {
   "cell_type": "code",
   "execution_count": 16,
   "metadata": {},
   "outputs": [
    {
     "data": {
      "text/plain": [
       "{'Action': ['ANTITRUST TOMATOES', 'CLUELESS BUCKET'],\n",
       " 'Animation': ['CLASH FREDDY', 'INCH JET', 'SNOWMAN ROLLERCOASTER'],\n",
       " 'Children': ['CABIN FLASH',\n",
       "  'LEGALLY SECRETARY',\n",
       "  'MODEL FISH',\n",
       "  'SPLENDOR PATTON'],\n",
       " 'Classics': ['GALAXY SWEETHEARTS', 'STEEL SANTA'],\n",
       " 'Comedy': ['GROUNDHOG UNCUT', 'LIFE TWISTED', 'LION UNCUT'],\n",
       " 'Documentary': ['HOMEWARD CIDER', 'METAL ARMAGEDDON', 'WEDDING APOLLO'],\n",
       " 'Drama': ['TORQUE BOUND'],\n",
       " 'Family': ['LOLITA WORLD', 'SPLASH GUMP'],\n",
       " 'Foreign': ['FRIDA SLIPPER'],\n",
       " 'Games': ['GRINCH MASSAGE', 'MOONWALKER FOOL'],\n",
       " 'Horror': ['MOTIONS DETAILS', 'ZHIVAGO CORE'],\n",
       " 'Music': ['ALONE TRIP', 'REBEL AIRPORT'],\n",
       " 'New': ['ATTRACTION NEWTON', 'CHINATOWN GLADIATOR'],\n",
       " 'Sci-Fi': ['DAISY MENAGERIE', 'SOLDIERS EVOLUTION'],\n",
       " 'Sports': ['DRIVER ANNIE', 'RIDER CADDYSHACK'],\n",
       " 'Travel': ['BOONDOCK BALLROOM', 'LEATHERNECKS DWARFS']}"
      ]
     },
     "execution_count": 16,
     "metadata": {},
     "output_type": "execute_result"
    }
   ],
   "source": [
    "d_actor_info"
   ]
  }
 ],
 "metadata": {
  "kernelspec": {
   "display_name": "Python 3",
   "language": "python",
   "name": "python3"
  },
  "language_info": {
   "codemirror_mode": {
    "name": "ipython",
    "version": 3
   },
   "file_extension": ".py",
   "mimetype": "text/x-python",
   "name": "python",
   "nbconvert_exporter": "python",
   "pygments_lexer": "ipython3",
   "version": "3.5.2"
  }
 },
 "nbformat": 4,
 "nbformat_minor": 2
}
