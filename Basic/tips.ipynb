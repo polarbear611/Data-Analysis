{
 "cells": [
  {
   "cell_type": "code",
   "execution_count": null,
   "metadata": {},
   "outputs": [],
   "source": [
    "#pandas根据一列数据更新另一列\n",
    "def number_to_flag(number):\n",
    "    if number > 0:\n",
    "        return '涨'\n",
    "    elif number == 0:\n",
    "        return '平'\n",
    "    else:\n",
    "        return '跌'\n",
    "\n",
    " df['涨跌'] = df['p_change'].map(number_to_flag)\n"
   ]
  },
  {
   "cell_type": "code",
   "execution_count": null,
   "metadata": {},
   "outputs": [],
   "source": [
    "import numpy as np \n",
    "df['涨跌'] = np.sign(df['p_change']) \n",
    "df['涨跌'].replace([-1,0,1], ['跌','平','涨'], inplace = True) "
   ]
  }
 ],
 "metadata": {
  "kernelspec": {
   "display_name": "Python 3",
   "language": "python",
   "name": "python3"
  },
  "language_info": {
   "codemirror_mode": {
    "name": "ipython",
    "version": 3
   },
   "file_extension": ".py",
   "mimetype": "text/x-python",
   "name": "python",
   "nbconvert_exporter": "python",
   "pygments_lexer": "ipython3",
   "version": "3.5.2"
  }
 },
 "nbformat": 4,
 "nbformat_minor": 2
}
